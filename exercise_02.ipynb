{
 "cells": [
  {
   "cell_type": "markdown",
   "metadata": {},
   "source": [
    "# Exercise 02: Multi-class Classification \n",
    "In this exercise, you will train a deep model on the CIFAR10 from the scratch using PyTorch. The following tasks should be done:\n",
    "- Task 1: per batch training/testing\n",
    "- Task 2: Instance inference and visualization"
   ]
  },
  {
   "cell_type": "markdown",
   "metadata": {},
   "source": [
    "### Basic Imports"
   ]
  },
  {
   "cell_type": "code",
   "execution_count": 1,
   "metadata": {},
   "outputs": [],
   "source": [
    "import os\n",
    "import time\n",
    "import os.path as osp\n",
    "\n",
    "import numpy as np\n",
    "import pandas as pd\n",
    "\n",
    "import torch\n",
    "import torch.nn as nn\n",
    "import torch.nn.functional as F\n",
    "import torch.optim as optim\n",
    "from torch.utils.data import DataLoader\n",
    "\n",
    "from torchvision import datasets\n",
    "from torchvision import transforms\n",
    "import torchvision\n",
    "\n",
    "import matplotlib.pyplot as plt\n",
    "from PIL import Image"
   ]
  },
  {
   "cell_type": "markdown",
   "metadata": {},
   "source": [
    "### Hyperparameters"
   ]
  },
  {
   "cell_type": "code",
   "execution_count": 2,
   "metadata": {},
   "outputs": [],
   "source": [
    "# random seed\n",
    "SEED = 1 \n",
    "NUM_CLASS = 10\n",
    "\n",
    "# Training\n",
    "BATCH_SIZE = 128\n",
    "NUM_EPOCHS = 30\n",
    "EVAL_INTERVAL=1\n",
    "SAVE_DIR = './log'\n",
    "\n",
    "# Optimizer\n",
    "LEARNING_RATE = 1e-1\n",
    "MOMENTUM = 0.9\n",
    "STEP=5\n",
    "GAMMA=0.5"
   ]
  },
  {
   "cell_type": "markdown",
   "metadata": {},
   "source": [
    "### Device"
   ]
  },
  {
   "cell_type": "code",
   "execution_count": 3,
   "metadata": {},
   "outputs": [],
   "source": [
    "device = torch.device(\"cuda:0\" if torch.cuda.is_available() else \"cpu\")"
   ]
  },
  {
   "cell_type": "markdown",
   "metadata": {},
   "source": [
    "\n",
    "### Dataset\n"
   ]
  },
  {
   "cell_type": "code",
   "execution_count": 4,
   "metadata": {},
   "outputs": [
    {
     "name": "stdout",
     "output_type": "stream",
     "text": [
      "Files already downloaded and verified\n",
      "Files already downloaded and verified\n"
     ]
    }
   ],
   "source": [
    "# cifar10 transform\n",
    "transform_cifar10_train = transforms.Compose([\n",
    "    transforms.RandomCrop(32, padding=4),\n",
    "    transforms.RandomHorizontalFlip(),\n",
    "    transforms.ToTensor(),\n",
    "    transforms.Normalize((0.4914, 0.4822, 0.4465), (0.2023, 0.1994, 0.2010)),\n",
    "])\n",
    "\n",
    "transform_cifar10_test = transforms.Compose([\n",
    "    transforms.ToTensor(),\n",
    "    transforms.Normalize((0.4914, 0.4822, 0.4465), (0.2023, 0.1994, 0.2010)),\n",
    "])\n",
    "\n",
    "train_set = torchvision.datasets.CIFAR10(root='../data', train=True,\n",
    "                                        download=True, transform=transform_cifar10_train)\n",
    "train_dataloader = torch.utils.data.DataLoader(train_set, batch_size=BATCH_SIZE,\n",
    "                                          shuffle=True, num_workers=2)\n",
    "\n",
    "test_set = torchvision.datasets.CIFAR10(root='../data', train=False,\n",
    "                                       download=True, transform=transform_cifar10_test)\n",
    "test_dataloader = torch.utils.data.DataLoader(test_set, batch_size=BATCH_SIZE,\n",
    "                                         shuffle=False, num_workers=2)\n",
    "\n",
    "class_names = ['airplane', 'automobile', 'bird', 'cat', 'deer', 'dog', 'frog', 'horse', 'ship', 'truck']\n"
   ]
  },
  {
   "cell_type": "markdown",
   "metadata": {},
   "source": [
    "### Model"
   ]
  },
  {
   "cell_type": "code",
   "execution_count": 5,
   "metadata": {},
   "outputs": [],
   "source": [
    "class ConvNet(nn.Module):\n",
    "    def __init__(self):\n",
    "        super(ConvNet, self).__init__()\n",
    "        self.conv1 = nn.Conv2d(3, 4, 3)  \n",
    "        self.pool = nn.MaxPool2d(2, 2)\n",
    "        self.conv2 = nn.Conv2d(4, 8, 3)  \n",
    "        self.fc1 = nn.Linear(8 * 6 * 6, 32)\n",
    "        self.fc2 = nn.Linear(32, 10)\n",
    "\n",
    "    def forward(self, x):\n",
    "        x = self.pool(torch.relu(self.conv1(x)))\n",
    "        x = self.pool(torch.relu(self.conv2(x)))\n",
    "        x = x.view(-1, 8 * 6 * 6)\n",
    "        x = torch.relu(self.fc1(x))\n",
    "        x = self.fc2(x)\n",
    "        return x"
   ]
  },
  {
   "cell_type": "code",
   "execution_count": 6,
   "metadata": {},
   "outputs": [
    {
     "data": {
      "text/plain": [
       "ConvNet(\n",
       "  (conv1): Conv2d(3, 4, kernel_size=(3, 3), stride=(1, 1))\n",
       "  (pool): MaxPool2d(kernel_size=2, stride=2, padding=0, dilation=1, ceil_mode=False)\n",
       "  (conv2): Conv2d(4, 8, kernel_size=(3, 3), stride=(1, 1))\n",
       "  (fc1): Linear(in_features=288, out_features=32, bias=True)\n",
       "  (fc2): Linear(in_features=32, out_features=10, bias=True)\n",
       ")"
      ]
     },
     "execution_count": 6,
     "metadata": {},
     "output_type": "execute_result"
    }
   ],
   "source": [
    "model = ConvNet()\n",
    "model.to(device)"
   ]
  },
  {
   "cell_type": "markdown",
   "metadata": {},
   "source": [
    "### Optimizer"
   ]
  },
  {
   "cell_type": "code",
   "execution_count": 7,
   "metadata": {},
   "outputs": [],
   "source": [
    "optimizer = optim.SGD(model.parameters(), lr=LEARNING_RATE, momentum=MOMENTUM)\n",
    "\n",
    "scheduler = torch.optim.lr_scheduler.StepLR(optimizer, step_size=STEP, gamma=GAMMA)"
   ]
  },
  {
   "cell_type": "markdown",
   "metadata": {},
   "source": [
    "### Task 1: per batch training/testing\n",
    "---\n",
    "\n",
    "Please denfine two function named ``train_batch`` and ``test_batch``. These functions are essential for training and evaluating machine learning models using batched data from dataloaders.\n",
    "\n",
    "**To do**: \n",
    "1. Define the loss function i.e [nn.CrossEntropyLoss()](https://pytorch.org/docs/stable/generated/torch.nn.CrossEntropyLoss.html).\n",
    "2. Take the image as the input and generate the output using the pre-defined SimpleNet.\n",
    "3. Calculate the loss between the output and the corresponding label using the loss function."
   ]
  },
  {
   "cell_type": "code",
   "execution_count": 8,
   "metadata": {},
   "outputs": [],
   "source": [
    "##################### Write your answer here ##################\n",
    "# Define the loss function\n",
    "criterion = nn.CrossEntropyLoss()\n",
    "###############################################################"
   ]
  },
  {
   "cell_type": "code",
   "execution_count": 9,
   "metadata": {},
   "outputs": [],
   "source": [
    "def train_batch(model, image, target):\n",
    "    \"\"\"\n",
    "    Perform one training batch iteration.\n",
    "\n",
    "    Args:\n",
    "        model (torch.nn.Module): The machine learning model to train.\n",
    "        image (torch.Tensor): Batch of input data (images).\n",
    "        target (torch.Tensor): Batch of target labels.\n",
    "\n",
    "    Returns:\n",
    "        torch.Tensor: Model output (predictions) for the batch.\n",
    "        torch.Tensor: Loss value calculated by the defined loss function loss_fn().\n",
    "    \"\"\"\n",
    "    \n",
    "    ##################### Write your answer here ##################\n",
    "\n",
    "    output = model(image)\n",
    "    loss = criterion(output, target)\n",
    "    \n",
    "    ###############################################################\n",
    "\n",
    "    return output, loss"
   ]
  },
  {
   "cell_type": "code",
   "execution_count": 13,
   "metadata": {},
   "outputs": [],
   "source": [
    "\n",
    "def test_batch(model, image, target):\n",
    "    \"\"\"\n",
    "    Perform one testing batch iteration.\n",
    "\n",
    "    Args:\n",
    "        model (torch.nn.Module): The machine learning model to evaluate.\n",
    "        image (torch.Tensor): Batch of input data (images).\n",
    "        target (torch.Tensor): Batch of target labels.\n",
    "\n",
    "    Returns:\n",
    "        torch.Tensor: Model output (predictions) for the batch.\n",
    "        torch.Tensor: Loss value calculated for the batch.\n",
    "    \"\"\"\n",
    "\n",
    "    ##################### Write your answer here ##################\n",
    "    \n",
    "    output = model(image)\n",
    "    loss = criterion(output, target)\n",
    "    \n",
    "    ###############################################################\n",
    "\n",
    "    return output, loss"
   ]
  },
  {
   "cell_type": "markdown",
   "metadata": {},
   "source": [
    "### Model Training"
   ]
  },
  {
   "cell_type": "code",
   "execution_count": 14,
   "metadata": {},
   "outputs": [
    {
     "name": "stdout",
     "output_type": "stream",
     "text": [
      "Epoch: 1/30 Train Loss: 0.0134 Acc: 0.3736\n",
      "Begin test......\n",
      "Test Loss: 0.0133 Acc: 0.3883\n",
      "Epoch: 2/30 Train Loss: 0.0134 Acc: 0.3791\n",
      "Begin test......\n",
      "Test Loss: 0.0128 Acc: 0.4087\n",
      "Epoch: 3/30 Train Loss: 0.0132 Acc: 0.3857\n",
      "Begin test......\n",
      "Test Loss: 0.0135 Acc: 0.3794\n",
      "Epoch: 4/30 Train Loss: 0.0123 Acc: 0.4290\n",
      "Begin test......\n",
      "Test Loss: 0.0117 Acc: 0.4608\n",
      "Epoch: 5/30 Train Loss: 0.0121 Acc: 0.4402\n",
      "Begin test......\n",
      "Test Loss: 0.0115 Acc: 0.4690\n",
      "Epoch: 6/30 Train Loss: 0.0121 Acc: 0.4395\n",
      "Begin test......\n",
      "Test Loss: 0.0114 Acc: 0.4855\n",
      "Epoch: 7/30 Train Loss: 0.0119 Acc: 0.4496\n",
      "Begin test......\n",
      "Test Loss: 0.0114 Acc: 0.4851\n",
      "Epoch: 8/30 Train Loss: 0.0119 Acc: 0.4518\n",
      "Begin test......\n",
      "Test Loss: 0.0117 Acc: 0.4638\n",
      "Epoch: 9/30 Train Loss: 0.0113 Acc: 0.4756\n",
      "Begin test......\n",
      "Test Loss: 0.0105 Acc: 0.5218\n",
      "Epoch: 10/30 Train Loss: 0.0112 Acc: 0.4827\n",
      "Begin test......\n",
      "Test Loss: 0.0106 Acc: 0.5141\n",
      "Epoch: 11/30 Train Loss: 0.0112 Acc: 0.4836\n",
      "Begin test......\n",
      "Test Loss: 0.0104 Acc: 0.5233\n",
      "Epoch: 12/30 Train Loss: 0.0110 Acc: 0.4956\n",
      "Begin test......\n",
      "Test Loss: 0.0105 Acc: 0.5154\n",
      "Epoch: 13/30 Train Loss: 0.0110 Acc: 0.4918\n",
      "Begin test......\n",
      "Test Loss: 0.0103 Acc: 0.5350\n",
      "Epoch: 14/30 Train Loss: 0.0108 Acc: 0.5025\n",
      "Begin test......\n",
      "Test Loss: 0.0101 Acc: 0.5363\n",
      "Epoch: 15/30 Train Loss: 0.0106 Acc: 0.5069\n",
      "Begin test......\n",
      "Test Loss: 0.0100 Acc: 0.5466\n",
      "Epoch: 16/30 Train Loss: 0.0106 Acc: 0.5085\n",
      "Begin test......\n",
      "Test Loss: 0.0099 Acc: 0.5517\n",
      "Epoch: 17/30 Train Loss: 0.0106 Acc: 0.5140\n",
      "Begin test......\n",
      "Test Loss: 0.0098 Acc: 0.5539\n",
      "Epoch: 18/30 Train Loss: 0.0106 Acc: 0.5116\n",
      "Begin test......\n",
      "Test Loss: 0.0101 Acc: 0.5438\n",
      "Epoch: 19/30 Train Loss: 0.0104 Acc: 0.5220\n",
      "Begin test......\n",
      "Test Loss: 0.0098 Acc: 0.5551\n",
      "Epoch: 20/30 Train Loss: 0.0103 Acc: 0.5251\n",
      "Begin test......\n",
      "Test Loss: 0.0096 Acc: 0.5653\n",
      "Epoch: 21/30 Train Loss: 0.0103 Acc: 0.5278\n",
      "Begin test......\n",
      "Test Loss: 0.0097 Acc: 0.5597\n",
      "Epoch: 22/30 Train Loss: 0.0103 Acc: 0.5247\n",
      "Begin test......\n",
      "Test Loss: 0.0097 Acc: 0.5650\n",
      "Epoch: 23/30 Train Loss: 0.0103 Acc: 0.5275\n",
      "Begin test......\n",
      "Test Loss: 0.0098 Acc: 0.5595\n",
      "Epoch: 24/30 Train Loss: 0.0101 Acc: 0.5344\n",
      "Begin test......\n",
      "Test Loss: 0.0095 Acc: 0.5716\n",
      "Epoch: 25/30 Train Loss: 0.0101 Acc: 0.5355\n",
      "Begin test......\n",
      "Test Loss: 0.0095 Acc: 0.5721\n",
      "Epoch: 26/30 Train Loss: 0.0101 Acc: 0.5379\n",
      "Begin test......\n",
      "Test Loss: 0.0096 Acc: 0.5674\n",
      "Epoch: 27/30 Train Loss: 0.0101 Acc: 0.5347\n",
      "Begin test......\n",
      "Test Loss: 0.0095 Acc: 0.5689\n",
      "Epoch: 28/30 Train Loss: 0.0101 Acc: 0.5355\n",
      "Begin test......\n",
      "Test Loss: 0.0094 Acc: 0.5705\n",
      "Epoch: 29/30 Train Loss: 0.0100 Acc: 0.5426\n",
      "Begin test......\n",
      "Test Loss: 0.0094 Acc: 0.5759\n",
      "Epoch: 30/30 Train Loss: 0.0100 Acc: 0.5420\n",
      "Begin test......\n",
      "Test Loss: 0.0094 Acc: 0.5773\n"
     ]
    }
   ],
   "source": [
    "training_loss = []\n",
    "training_acc = []\n",
    "testing_loss = []\n",
    "testing_acc = []\n",
    "\n",
    "for epoch in range(NUM_EPOCHS):\n",
    "    model.train()\n",
    "    torch.cuda.empty_cache()\n",
    "\n",
    "    ##########################\n",
    "    ### Training\n",
    "    ##########################\n",
    "\n",
    "    running_cls_loss = 0.0\n",
    "    running_cls_corrects = 0\n",
    "\n",
    "    for batch_idx, (image, target) in enumerate(train_dataloader):\n",
    "\n",
    "        image = image.to(device)\n",
    "        target = target.to(device)\n",
    "\n",
    "        # train model\n",
    "        outputs, loss = train_batch(model, image, target)\n",
    "        _, preds = torch.max(outputs, 1)\n",
    "\n",
    "        \n",
    "        loss_data = loss.data.item()\n",
    "        if np.isnan(loss_data):\n",
    "            raise ValueError('loss is nan while training')\n",
    "        running_cls_loss += loss.item()\n",
    "        running_cls_corrects += torch.sum(preds == target.data)\n",
    "\n",
    "        loss.backward()\n",
    "        optimizer.step()\n",
    "        optimizer.zero_grad()\n",
    "\n",
    "    epoch_loss = running_cls_loss / len(train_set)\n",
    "    epoch_acc = running_cls_corrects.double() / len(train_set)\n",
    "\n",
    "    print(f'Epoch: {epoch+1}/{NUM_EPOCHS} Train Loss: {epoch_loss:.4f} Acc: {epoch_acc:.4f}')\n",
    "\n",
    "    training_loss.append(epoch_loss)\n",
    "    training_acc.append(epoch_acc.cpu().detach().numpy())\n",
    "\n",
    "    # change learning rate\n",
    "    scheduler.step()\n",
    "\n",
    "\n",
    "    ##########################\n",
    "    ### Testing\n",
    "    ##########################\n",
    "    # # eval model during training or in the last epoch\n",
    "    if (epoch + 1) % EVAL_INTERVAL == 0 or (epoch +1) == NUM_EPOCHS:\n",
    "        print('Begin test......')\n",
    "        model.eval()\n",
    "    \n",
    "        val_loss = 0.0\n",
    "        val_corrects = 0\n",
    "\n",
    "        for batch_idx, (image, target) in enumerate(test_dataloader):\n",
    "\n",
    "            image = image.to(device)\n",
    "            target = target.to(device)\n",
    "\n",
    "            # test model\n",
    "            outputs, loss = test_batch(model, image, target)\n",
    "            _, preds = torch.max(outputs, 1)\n",
    "            \n",
    "            val_loss += loss.item()\n",
    "            val_corrects += torch.sum(preds == target.data)\n",
    "\n",
    "        val_loss = val_loss / len(test_set)\n",
    "        val_acc = val_corrects.double() / len(test_set)\n",
    "        print(f'Test Loss: {val_loss:.4f} Acc: {val_acc:.4f}')\n",
    "        testing_loss.append(val_loss)\n",
    "        testing_acc.append(val_acc.cpu().detach().numpy())\n",
    "\n",
    "        # save the model in last epoch\n",
    "        if (epoch +1) == NUM_EPOCHS:\n",
    "            \n",
    "            state = {\n",
    "            'state_dict': model.state_dict(),\n",
    "            'acc': epoch_acc,\n",
    "            'epoch': (epoch+1),\n",
    "            }\n",
    "\n",
    "            # check the dir\n",
    "            if not os.path.exists(SAVE_DIR):\n",
    "                os.makedirs(SAVE_DIR)\n",
    "\n",
    "            # save the state\n",
    "            torch.save(state, osp.join(SAVE_DIR, 'checkpoint_%s.pth' % (str(epoch+1))))"
   ]
  },
  {
   "cell_type": "markdown",
   "metadata": {},
   "source": [
    "### Task 2: Instance inference\n",
    "---\n",
    "The task is to visualizes an image along with model prediction and class probabilities.\n",
    "\n",
    "**To do**: \n",
    "1. Calculate the prediction and the probabilities for each class.\n",
    "         "
   ]
  },
  {
   "cell_type": "code",
   "execution_count": 65,
   "metadata": {},
   "outputs": [
    {
     "name": "stdout",
     "output_type": "stream",
     "text": [
      "torch.Size([3, 32, 32])\n"
     ]
    }
   ],
   "source": [
    "inputs, classes = next(iter(test_dataloader))\n",
    "input = inputs[0]\n",
    "input = input.to('cuda')\n",
    "print(input.shape)"
   ]
  },
  {
   "cell_type": "code",
   "execution_count": 66,
   "metadata": {},
   "outputs": [
    {
     "name": "stdout",
     "output_type": "stream",
     "text": [
      "tensor([[4.6665e-03, 1.1528e-03, 8.7197e-02, 2.8006e-01, 1.0714e-01, 3.2754e-01,\n",
      "         1.3740e-02, 1.7251e-01, 3.5735e-03, 2.4266e-03],\n",
      "        [1.1361e-02, 4.7862e-02, 2.9416e-02, 1.3334e-01, 7.8372e-03, 1.3363e-01,\n",
      "         3.7505e-03, 1.1111e-01, 1.3900e-02, 5.0779e-01],\n",
      "        [8.6633e-02, 6.0431e-02, 2.1472e-03, 6.5606e-04, 3.6990e-04, 1.6063e-04,\n",
      "         2.0246e-04, 1.4965e-04, 8.2932e-01, 1.9927e-02],\n",
      "        [6.2242e-01, 1.2119e-02, 3.9273e-03, 3.5382e-04, 1.9494e-03, 1.5955e-04,\n",
      "         3.8649e-04, 1.0165e-04, 3.4693e-01, 1.1659e-02],\n",
      "        [9.5714e-03, 8.5708e-02, 8.1077e-05, 7.2300e-05, 1.3216e-05, 1.2747e-05,\n",
      "         1.1801e-05, 8.7621e-06, 8.4557e-01, 5.8954e-02],\n",
      "        [2.5899e-03, 2.2251e-04, 8.1678e-02, 6.6657e-03, 7.3333e-01, 2.0731e-02,\n",
      "         6.7673e-03, 1.4776e-01, 2.2143e-05, 2.4262e-04],\n",
      "        [2.1345e-02, 2.3556e-03, 7.1549e-02, 9.3375e-02, 5.5823e-02, 7.7818e-02,\n",
      "         2.7241e-03, 6.6281e-01, 3.2179e-03, 8.9821e-03],\n",
      "        [8.1948e-03, 7.9061e-01, 1.3349e-04, 6.1628e-05, 7.2583e-05, 1.0723e-05,\n",
      "         1.3076e-05, 5.5037e-05, 3.8452e-03, 1.9701e-01],\n",
      "        [1.2302e-03, 6.9467e-04, 1.1434e-02, 6.2326e-01, 7.1785e-03, 3.0271e-01,\n",
      "         3.9807e-02, 7.3149e-03, 5.7730e-03, 5.9273e-04],\n",
      "        [2.6417e-03, 6.7629e-05, 1.9468e-02, 4.8316e-01, 1.9385e-02, 4.3690e-01,\n",
      "         3.7493e-04, 3.6943e-02, 5.6034e-04, 5.0760e-04],\n",
      "        [4.0976e-03, 1.2281e-03, 8.7414e-02, 6.1016e-01, 1.9306e-02, 2.3236e-01,\n",
      "         2.2101e-02, 9.2325e-03, 1.2505e-02, 1.5916e-03],\n",
      "        [1.4441e-02, 1.4598e-03, 1.4835e-02, 3.3161e-01, 1.8560e-02, 3.6319e-01,\n",
      "         6.3072e-03, 1.6814e-02, 2.2976e-01, 3.0169e-03],\n",
      "        [1.6131e-03, 3.3902e-04, 2.7676e-02, 3.3857e-01, 3.5607e-02, 1.9960e-01,\n",
      "         3.8756e-01, 8.2352e-03, 3.6808e-04, 4.2021e-04],\n",
      "        [8.4439e-04, 1.7359e-04, 2.3344e-02, 4.2599e-01, 5.1674e-03, 5.0284e-01,\n",
      "         8.1048e-03, 3.1068e-02, 5.3586e-04, 1.9358e-03],\n",
      "        [8.4987e-02, 2.0641e-01, 1.7804e-01, 7.8784e-02, 1.8231e-01, 3.8326e-02,\n",
      "         6.4390e-02, 3.3666e-02, 6.4931e-02, 6.8152e-02],\n",
      "        [1.1884e-03, 8.0745e-04, 7.6055e-03, 3.5464e-03, 1.7461e-01, 5.9948e-03,\n",
      "         1.5681e-03, 8.0302e-01, 5.8045e-05, 1.5931e-03]], device='cuda:0',\n",
      "       grad_fn=<SoftmaxBackward0>)\n",
      "16\n"
     ]
    }
   ],
   "source": [
    "##################### Write your answer here ##################\n",
    "# input: image, model\n",
    "# outputs: predict_label, probabilities\n",
    "# predict_label is the index (or label) of the class with the highest probability from the probabilities.\n",
    "###############################################################\n",
    "\n",
    "output = model(input)\n",
    "probabilities = torch.softmax(output, dim = 1)\n",
    "predict_label = torch.argmax(probabilities, dim = 1)\n",
    "print(probabilities)\n",
    "print(len(probabilities))\n",
    "# print(predict_label)"
   ]
  },
  {
   "cell_type": "code",
   "execution_count": 67,
   "metadata": {},
   "outputs": [
    {
     "ename": "RuntimeError",
     "evalue": "a Tensor with 16 elements cannot be converted to Scalar",
     "output_type": "error",
     "traceback": [
      "\u001b[0;31m---------------------------------------------------------------------------\u001b[0m",
      "\u001b[0;31mRuntimeError\u001b[0m                              Traceback (most recent call last)",
      "Cell \u001b[0;32mIn[67], line 1\u001b[0m\n\u001b[0;32m----> 1\u001b[0m predicted_class \u001b[38;5;241m=\u001b[39m class_names[\u001b[43mpredict_label\u001b[49m\u001b[38;5;241;43m.\u001b[39;49m\u001b[43mitem\u001b[49m\u001b[43m(\u001b[49m\u001b[43m)\u001b[49m]\n\u001b[1;32m      2\u001b[0m predicted_probability \u001b[38;5;241m=\u001b[39m probabilities[\u001b[38;5;241m0\u001b[39m][predict_label]\u001b[38;5;241m.\u001b[39mitem()\n\u001b[1;32m      3\u001b[0m image \u001b[38;5;241m=\u001b[39m \u001b[38;5;28minput\u001b[39m\u001b[38;5;241m.\u001b[39mnumpy()\u001b[38;5;241m.\u001b[39mtranspose((\u001b[38;5;241m1\u001b[39m, \u001b[38;5;241m2\u001b[39m, \u001b[38;5;241m0\u001b[39m))\n",
      "\u001b[0;31mRuntimeError\u001b[0m: a Tensor with 16 elements cannot be converted to Scalar"
     ]
    }
   ],
   "source": [
    "predicted_class = class_names[predict_label.item()]\n",
    "predicted_probability = probabilities[0][predict_label].item()\n",
    "image = input.numpy().transpose((1, 2, 0))\n",
    "plt.imshow(image)\n",
    "plt.text(17, 30, f'Predicted Class: {predicted_class}\\nProbability: {predicted_probability:.2f}', \n",
    "            color='white', backgroundcolor='black', fontsize=8)\n",
    "plt.show()\n",
    "\n",
    "# Print probabilities for each class\n",
    "print('Print probabilities for each class:')\n",
    "for i in range(len(class_names)):\n",
    "    print(f'{class_names[i]}: {probabilities[0][i].item():.4f}')"
   ]
  },
  {
   "cell_type": "code",
   "execution_count": null,
   "metadata": {},
   "outputs": [],
   "source": []
  }
 ],
 "metadata": {
  "kernelspec": {
   "display_name": "Python 3 (ipykernel)",
   "language": "python",
   "name": "python3"
  },
  "language_info": {
   "codemirror_mode": {
    "name": "ipython",
    "version": 3
   },
   "file_extension": ".py",
   "mimetype": "text/x-python",
   "name": "python",
   "nbconvert_exporter": "python",
   "pygments_lexer": "ipython3",
   "version": "3.10.12"
  }
 },
 "nbformat": 4,
 "nbformat_minor": 4
}
