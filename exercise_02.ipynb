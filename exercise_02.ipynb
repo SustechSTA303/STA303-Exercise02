{
 "cells": [
  {
   "cell_type": "markdown",
   "metadata": {},
   "source": [
    "# Exercise 02: Multi-class Classification \n",
    "In this exercise, you will train a deep model on the CIFAR10 from the scratch using PyTorch. The following tasks should be done:\n",
    "- Task 1: per batch training/testing\n",
    "- Task 2: Instance inference and visualization"
   ]
  },
  {
   "cell_type": "markdown",
   "metadata": {},
   "source": [
    "### Basic Imports"
   ]
  },
  {
   "cell_type": "code",
   "execution_count": 1,
   "metadata": {},
   "outputs": [],
   "source": [
    "import os\n",
    "import time\n",
    "import os.path as osp\n",
    "\n",
    "import numpy as np\n",
    "import pandas as pd\n",
    "\n",
    "import torch\n",
    "import torch.nn as nn\n",
    "import torch.nn.functional as F\n",
    "import torch.optim as optim\n",
    "from torch.utils.data import DataLoader\n",
    "\n",
    "from torchvision import datasets\n",
    "from torchvision import transforms\n",
    "import torchvision\n",
    "\n",
    "import matplotlib.pyplot as plt\n",
    "from PIL import Image"
   ]
  },
  {
   "cell_type": "markdown",
   "metadata": {},
   "source": [
    "### Hyperparameters"
   ]
  },
  {
   "cell_type": "code",
   "execution_count": 15,
   "metadata": {},
   "outputs": [],
   "source": [
    "# random seed\n",
    "SEED = 1 \n",
    "NUM_CLASS = 10\n",
    "\n",
    "# Training\n",
    "BATCH_SIZE = 128\n",
    "NUM_EPOCHS = 30\n",
    "EVAL_INTERVAL=1\n",
    "SAVE_DIR = './log'\n",
    "\n",
    "# Optimizer\n",
    "LEARNING_RATE = 1e-1\n",
    "MOMENTUM = 0.9\n",
    "STEP=5\n",
    "GAMMA=0.5\n"
   ]
  },
  {
   "cell_type": "markdown",
   "metadata": {},
   "source": [
    "### Device"
   ]
  },
  {
   "cell_type": "code",
   "execution_count": 3,
   "metadata": {},
   "outputs": [],
   "source": [
    "device = torch.device(\"cuda:0\" if torch.cuda.is_available() else \"cpu\")"
   ]
  },
  {
   "cell_type": "markdown",
   "metadata": {},
   "source": [
    "\n",
    "### Dataset\n"
   ]
  },
  {
   "cell_type": "code",
   "execution_count": 4,
   "metadata": {},
   "outputs": [
    {
     "name": "stdout",
     "output_type": "stream",
     "text": [
      "Files already downloaded and verified\n",
      "Files already downloaded and verified\n"
     ]
    }
   ],
   "source": [
    "# cifar10 transform\n",
    "transform_cifar10_train = transforms.Compose([\n",
    "    transforms.RandomCrop(32, padding=4),\n",
    "    transforms.RandomHorizontalFlip(),\n",
    "    transforms.ToTensor(),\n",
    "    transforms.Normalize((0.4914, 0.4822, 0.4465), (0.2023, 0.1994, 0.2010)),\n",
    "])\n",
    "\n",
    "transform_cifar10_test = transforms.Compose([\n",
    "    transforms.ToTensor(),\n",
    "    transforms.Normalize((0.4914, 0.4822, 0.4465), (0.2023, 0.1994, 0.2010)),\n",
    "])\n",
    "\n",
    "train_set = torchvision.datasets.CIFAR10(root='../data', train=True,\n",
    "                                        download=True, transform=transform_cifar10_train)\n",
    "train_dataloader = torch.utils.data.DataLoader(train_set, batch_size=BATCH_SIZE,\n",
    "                                          shuffle=True, num_workers=2)\n",
    "\n",
    "test_set = torchvision.datasets.CIFAR10(root='../data', train=False,\n",
    "                                       download=True, transform=transform_cifar10_test)\n",
    "test_dataloader = torch.utils.data.DataLoader(test_set, batch_size=BATCH_SIZE,\n",
    "                                         shuffle=False, num_workers=2)\n",
    "\n",
    "class_names = ['airplane', 'automobile', 'bird', 'cat', 'deer', 'dog', 'frog', 'horse', 'ship', 'truck']\n"
   ]
  },
  {
   "cell_type": "markdown",
   "metadata": {},
   "source": [
    "### Model"
   ]
  },
  {
   "cell_type": "code",
   "execution_count": 5,
   "metadata": {},
   "outputs": [],
   "source": [
    "class ConvNet(nn.Module):\n",
    "    def __init__(self):\n",
    "        super(ConvNet, self).__init__()\n",
    "        self.conv1 = nn.Conv2d(3, 4, 3)  \n",
    "        self.pool = nn.MaxPool2d(2, 2)\n",
    "        self.conv2 = nn.Conv2d(4, 8, 3)  \n",
    "        self.fc1 = nn.Linear(8 * 6 * 6, 32)\n",
    "        self.fc2 = nn.Linear(32, 10)\n",
    "\n",
    "    def forward(self, x):\n",
    "        x = self.pool(torch.relu(self.conv1(x)))\n",
    "        x = self.pool(torch.relu(self.conv2(x)))\n",
    "        x = x.view(-1, 8 * 6 * 6)\n",
    "        x = torch.relu(self.fc1(x))\n",
    "        x = self.fc2(x)\n",
    "        return x"
   ]
  },
  {
   "cell_type": "code",
   "execution_count": 6,
   "metadata": {},
   "outputs": [],
   "source": [
    "model = ConvNet()\n",
    "# model.to(device)"
   ]
  },
  {
   "cell_type": "markdown",
   "metadata": {},
   "source": [
    "### Optimizer"
   ]
  },
  {
   "cell_type": "code",
   "execution_count": 7,
   "metadata": {},
   "outputs": [],
   "source": [
    "optimizer = optim.SGD(model.parameters(), lr=LEARNING_RATE, momentum=MOMENTUM)\n",
    "\n",
    "scheduler = torch.optim.lr_scheduler.StepLR(optimizer, step_size=STEP, gamma=GAMMA)"
   ]
  },
  {
   "cell_type": "markdown",
   "metadata": {},
   "source": [
    "### Task 1: per batch training/testing\n",
    "---\n",
    "\n",
    "Please denfine two function named ``train_batch`` and ``test_batch``. These functions are essential for training and evaluating machine learning models using batched data from dataloaders.\n",
    "\n",
    "**To do**: \n",
    "1. Define the loss function i.e [nn.CrossEntropyLoss()](https://pytorch.org/docs/stable/generated/torch.nn.CrossEntropyLoss.html).\n",
    "2. Take the image as the input and generate the output using the pre-defined SimpleNet.\n",
    "3. Calculate the loss between the output and the corresponding label using the loss function."
   ]
  },
  {
   "cell_type": "code",
   "execution_count": 8,
   "metadata": {},
   "outputs": [],
   "source": [
    "##################### Write your answer here ##################\n",
    "# Define the loss function\n",
    "criterion = nn.CrossEntropyLoss()\n",
    "###############################################################"
   ]
  },
  {
   "cell_type": "code",
   "execution_count": 9,
   "metadata": {},
   "outputs": [],
   "source": [
    "def train_batch(model, image, target):\n",
    "    \"\"\"\n",
    "    Perform one training batch iteration.\n",
    "\n",
    "    Args:\n",
    "        model (torch.nn.Module): The machine learning model to train.\n",
    "        image (torch.Tensor): Batch of input data (images).\n",
    "        target (torch.Tensor): Batch of target labels.\n",
    "\n",
    "    Returns:\n",
    "        torch.Tensor: Model output (predictions) for the batch.\n",
    "        torch.Tensor: Loss value calculated by the defined loss function loss_fn().\n",
    "    \"\"\"\n",
    "    \n",
    "    ##################### Write your answer here ##################\n",
    "    \n",
    "    model.train()\n",
    "    model = model.to(device)\n",
    "\n",
    "    output = model(image)\n",
    "    \n",
    "    loss = criterion(output, target)\n",
    "\n",
    "#     optimizer.zero_grad()  \n",
    "#     loss.backward()\n",
    "#     optimizer.step()\n",
    "    ###############################################################\n",
    "\n",
    "    return output, loss"
   ]
  },
  {
   "cell_type": "code",
   "execution_count": 10,
   "metadata": {},
   "outputs": [],
   "source": [
    "\n",
    "def test_batch(model, image, target):\n",
    "    \"\"\"\n",
    "    Perform one testing batch iteration.\n",
    "\n",
    "    Args:\n",
    "        model (torch.nn.Module): The machine learning model to evaluate.\n",
    "        image (torch.Tensor): Batch of input data (images).\n",
    "        target (torch.Tensor): Batch of target labels.\n",
    "\n",
    "    Returns:\n",
    "        torch.Tensor: Model output (predictions) for the batch.\n",
    "        torch.Tensor: Loss value calculated for the batch.\n",
    "    \"\"\"\n",
    "\n",
    "    ##################### Write your answer here ##################\n",
    "    model.eval()\n",
    "\n",
    "    with torch.no_grad():\n",
    "        output = model(image)\n",
    "\n",
    "    loss = criterion(output, target)\n",
    "    ###############################################################\n",
    "\n",
    "    return output, loss"
   ]
  },
  {
   "cell_type": "markdown",
   "metadata": {},
   "source": [
    "### Model Training"
   ]
  },
  {
   "cell_type": "code",
   "execution_count": 11,
   "metadata": {},
   "outputs": [
    {
     "name": "stdout",
     "output_type": "stream",
     "text": [
      "0\n",
      "Epoch: 1/30 Train Loss: 0.0154 Acc: 0.2687\n",
      "Begin test......\n",
      "Test Loss: 0.0145 Acc: 0.3042\n",
      "1\n",
      "Epoch: 2/30 Train Loss: 0.0142 Acc: 0.3264\n",
      "Begin test......\n",
      "Test Loss: 0.0135 Acc: 0.3689\n",
      "2\n",
      "Epoch: 3/30 Train Loss: 0.0139 Acc: 0.3461\n",
      "Begin test......\n",
      "Test Loss: 0.0135 Acc: 0.3505\n",
      "3\n",
      "Epoch: 4/30 Train Loss: 0.0137 Acc: 0.3502\n",
      "Begin test......\n",
      "Test Loss: 0.0136 Acc: 0.3673\n",
      "4\n",
      "Epoch: 5/30 Train Loss: 0.0136 Acc: 0.3584\n",
      "Begin test......\n",
      "Test Loss: 0.0135 Acc: 0.3632\n",
      "5\n",
      "Epoch: 6/30 Train Loss: 0.0128 Acc: 0.4004\n",
      "Begin test......\n",
      "Test Loss: 0.0121 Acc: 0.4322\n",
      "6\n",
      "Epoch: 7/30 Train Loss: 0.0125 Acc: 0.4162\n",
      "Begin test......\n",
      "Test Loss: 0.0123 Acc: 0.4346\n",
      "7\n",
      "Epoch: 8/30 Train Loss: 0.0126 Acc: 0.4132\n",
      "Begin test......\n",
      "Test Loss: 0.0121 Acc: 0.4440\n",
      "8\n",
      "Epoch: 9/30 Train Loss: 0.0125 Acc: 0.4201\n",
      "Begin test......\n",
      "Test Loss: 0.0117 Acc: 0.4603\n",
      "9\n",
      "Epoch: 10/30 Train Loss: 0.0123 Acc: 0.4224\n",
      "Begin test......\n",
      "Test Loss: 0.0118 Acc: 0.4553\n",
      "10\n",
      "Epoch: 11/30 Train Loss: 0.0118 Acc: 0.4475\n",
      "Begin test......\n",
      "Test Loss: 0.0111 Acc: 0.4853\n",
      "11\n",
      "Epoch: 12/30 Train Loss: 0.0117 Acc: 0.4523\n",
      "Begin test......\n",
      "Test Loss: 0.0111 Acc: 0.4918\n",
      "12\n",
      "Epoch: 13/30 Train Loss: 0.0117 Acc: 0.4589\n",
      "Begin test......\n",
      "Test Loss: 0.0111 Acc: 0.4908\n",
      "13\n",
      "Epoch: 14/30 Train Loss: 0.0117 Acc: 0.4570\n",
      "Begin test......\n",
      "Test Loss: 0.0109 Acc: 0.5003\n",
      "14\n",
      "Epoch: 15/30 Train Loss: 0.0116 Acc: 0.4611\n",
      "Begin test......\n",
      "Test Loss: 0.0109 Acc: 0.4959\n",
      "15\n",
      "Epoch: 16/30 Train Loss: 0.0113 Acc: 0.4786\n",
      "Begin test......\n",
      "Test Loss: 0.0107 Acc: 0.5107\n",
      "16\n",
      "Epoch: 17/30 Train Loss: 0.0112 Acc: 0.4818\n",
      "Begin test......\n",
      "Test Loss: 0.0107 Acc: 0.5173\n",
      "17\n",
      "Epoch: 18/30 Train Loss: 0.0112 Acc: 0.4830\n",
      "Begin test......\n",
      "Test Loss: 0.0106 Acc: 0.5152\n",
      "18\n",
      "Epoch: 19/30 Train Loss: 0.0112 Acc: 0.4845\n",
      "Begin test......\n",
      "Test Loss: 0.0105 Acc: 0.5224\n",
      "19\n",
      "Epoch: 20/30 Train Loss: 0.0112 Acc: 0.4832\n",
      "Begin test......\n",
      "Test Loss: 0.0107 Acc: 0.5133\n",
      "20\n",
      "Epoch: 21/30 Train Loss: 0.0109 Acc: 0.4964\n",
      "Begin test......\n",
      "Test Loss: 0.0103 Acc: 0.5349\n",
      "21\n",
      "Epoch: 22/30 Train Loss: 0.0109 Acc: 0.4951\n",
      "Begin test......\n",
      "Test Loss: 0.0102 Acc: 0.5329\n",
      "22\n",
      "Epoch: 23/30 Train Loss: 0.0109 Acc: 0.4992\n",
      "Begin test......\n",
      "Test Loss: 0.0102 Acc: 0.5330\n",
      "23\n",
      "Epoch: 24/30 Train Loss: 0.0109 Acc: 0.4992\n",
      "Begin test......\n",
      "Test Loss: 0.0102 Acc: 0.5386\n",
      "24\n",
      "Epoch: 25/30 Train Loss: 0.0109 Acc: 0.4996\n",
      "Begin test......\n",
      "Test Loss: 0.0101 Acc: 0.5382\n",
      "25\n",
      "Epoch: 26/30 Train Loss: 0.0107 Acc: 0.5041\n",
      "Begin test......\n",
      "Test Loss: 0.0101 Acc: 0.5403\n",
      "26\n",
      "Epoch: 27/30 Train Loss: 0.0107 Acc: 0.5054\n",
      "Begin test......\n",
      "Test Loss: 0.0101 Acc: 0.5454\n",
      "27\n",
      "Epoch: 28/30 Train Loss: 0.0107 Acc: 0.5059\n",
      "Begin test......\n",
      "Test Loss: 0.0101 Acc: 0.5390\n",
      "28\n",
      "Epoch: 29/30 Train Loss: 0.0107 Acc: 0.5070\n",
      "Begin test......\n",
      "Test Loss: 0.0101 Acc: 0.5438\n",
      "29\n",
      "Epoch: 30/30 Train Loss: 0.0107 Acc: 0.5081\n",
      "Begin test......\n",
      "Test Loss: 0.0101 Acc: 0.5394\n"
     ]
    }
   ],
   "source": [
    "training_loss = []\n",
    "training_acc = []\n",
    "testing_loss = []\n",
    "testing_acc = []\n",
    "\n",
    "for epoch in range(NUM_EPOCHS):\n",
    "    model.train()\n",
    "    torch.cuda.empty_cache()\n",
    "    print(epoch)\n",
    "    ##########################\n",
    "    ### Training\n",
    "    ##########################\n",
    "\n",
    "    running_cls_loss = 0.0\n",
    "    running_cls_corrects = 0\n",
    "\n",
    "    for batch_idx, (image, target) in enumerate(train_dataloader):\n",
    "\n",
    "        image = image.to(device)\n",
    "        target = target.to(device)\n",
    "\n",
    "        # train model\n",
    "        outputs, loss = train_batch(model, image, target)\n",
    "        _, preds = torch.max(outputs, 1)\n",
    "\n",
    "        \n",
    "        loss_data = loss.data.item()\n",
    "        if np.isnan(loss_data):\n",
    "            raise ValueError('loss is nan while training')\n",
    "        running_cls_loss += loss.item()\n",
    "        running_cls_corrects += torch.sum(preds == target.data)\n",
    "\n",
    "        loss.backward()\n",
    "        optimizer.step()\n",
    "        optimizer.zero_grad()\n",
    "\n",
    "    epoch_loss = running_cls_loss / len(train_set)\n",
    "    epoch_acc = running_cls_corrects.double() / len(train_set)\n",
    "\n",
    "    print(f'Epoch: {epoch+1}/{NUM_EPOCHS} Train Loss: {epoch_loss:.4f} Acc: {epoch_acc:.4f}')\n",
    "\n",
    "    training_loss.append(epoch_loss)\n",
    "    training_acc.append(epoch_acc.cpu().detach().numpy())\n",
    "\n",
    "    # change learning rate\n",
    "    scheduler.step()\n",
    "\n",
    "\n",
    "    ##########################\n",
    "    ### Testing\n",
    "    ##########################\n",
    "    # # eval model during training or in the last epoch\n",
    "    if (epoch + 1) % EVAL_INTERVAL == 0 or (epoch +1) == NUM_EPOCHS:\n",
    "        print('Begin test......')\n",
    "        model.eval()\n",
    "    \n",
    "        val_loss = 0.0\n",
    "        val_corrects = 0\n",
    "\n",
    "        for batch_idx, (image, target) in enumerate(test_dataloader):\n",
    "\n",
    "            image = image.to(device)\n",
    "            target = target.to(device)\n",
    "\n",
    "            # test model\n",
    "            outputs, loss = test_batch(model, image, target)\n",
    "            _, preds = torch.max(outputs, 1)\n",
    "            \n",
    "            val_loss += loss.item()\n",
    "            val_corrects += torch.sum(preds == target.data)\n",
    "\n",
    "        val_loss = val_loss / len(test_set)\n",
    "        val_acc = val_corrects.double() / len(test_set)\n",
    "        print(f'Test Loss: {val_loss:.4f} Acc: {val_acc:.4f}')\n",
    "        testing_loss.append(val_loss)\n",
    "        testing_acc.append(val_acc.cpu().detach().numpy())\n",
    "\n",
    "        # save the model in last epoch\n",
    "        if (epoch + 1) == NUM_EPOCHS:\n",
    "            \n",
    "            state = {\n",
    "            'state_dict': model.state_dict(),\n",
    "            'acc': epoch_acc,\n",
    "            'epoch': (epoch+1),\n",
    "            }\n",
    "\n",
    "            # check the dir\n",
    "            if not os.path.exists(SAVE_DIR):\n",
    "                os.makedirs(SAVE_DIR)\n",
    "\n",
    "            # save the state\n",
    "            torch.save(state, osp.join(SAVE_DIR, 'checkpoint_%s.pth' % (str(epoch+1))))"
   ]
  },
  {
   "cell_type": "markdown",
   "metadata": {},
   "source": [
    "### Task 2: Instance inference\n",
    "---\n",
    "The task is to visualizes an image along with model prediction and class probabilities.\n",
    "\n",
    "**To do**: \n",
    "1. Calculate the prediction and the probabilities for each class.\n",
    "         "
   ]
  },
  {
   "cell_type": "code",
   "execution_count": 16,
   "metadata": {},
   "outputs": [],
   "source": [
    "inputs, classes = next(iter(test_dataloader))\n",
    "input = inputs[0]"
   ]
  },
  {
   "cell_type": "code",
   "execution_count": 17,
   "metadata": {},
   "outputs": [],
   "source": [
    "##################### Write your answer here ##################\n",
    "# input: image, model\n",
    "# outputs: predict_label, probabilities\n",
    "# predict_label is the index (or label) of the class with the highest probability from the probabilities.\n",
    "###############################################################\n",
    "\n",
    "input = input.to(device)\n",
    "model = model.cuda()\n",
    "# model = model.to(device)\n",
    "\n",
    "probabilities = torch.squeeze(torch.softmax(model(input), dim=1))\n",
    "\n",
    "predict_label = torch.argmax(probabilities)\n"
   ]
  },
  {
   "cell_type": "code",
   "execution_count": 22,
   "metadata": {},
   "outputs": [
    {
     "name": "stderr",
     "output_type": "stream",
     "text": [
      "Clipping input data to the valid range for imshow with RGB data ([0..1] for floats or [0..255] for integers).\n"
     ]
    },
    {
     "data": {
      "image/png": "[encoded data removed]",
      "text/plain": [
       "<Figure size 640x480 with 1 Axes>"
      ]
     },
     "metadata": {},
     "output_type": "display_data"
    },
    {
     "name": "stdout",
     "output_type": "stream",
     "text": [
      "Print probabilities for each class:\n",
      "airplane: 0.0076\n",
      "automobile: 0.0010\n",
      "bird: 0.0618\n",
      "cat: 0.3604\n",
      "deer: 0.0353\n",
      "dog: 0.3823\n",
      "frog: 0.0193\n",
      "horse: 0.1019\n",
      "ship: 0.0279\n",
      "truck: 0.0023\n"
     ]
    }
   ],
   "source": [
    "predicted_class = class_names[predict_label.item()]\n",
    "predicted_probability = probabilities[predict_label].item()\n",
    "image = input.cpu().numpy().transpose((1, 2, 0))\n",
    "plt.imshow(image)\n",
    "plt.text(17, 30, f'Predicted Class: {predicted_class}\\nProbability: {predicted_probability:.2f}', \n",
    "            color='white', backgroundcolor='black', fontsize=8)\n",
    "plt.show()\n",
    "\n",
    "# Print probabilities for each class\n",
    "print('Print probabilities for each class:')\n",
    "for i in range(len(class_names)):\n",
    "    print(f'{class_names[i]}: {probabilities[i].item():.4f}')"
   ]
  }
 ],
 "metadata": {
  "kernelspec": {
   "display_name": "Python 3 (ipykernel)",
   "language": "python",
   "name": "python3"
  },
  "language_info": {
   "codemirror_mode": {
    "name": "ipython",
    "version": 3
   },
   "file_extension": ".py",
   "mimetype": "text/x-python",
   "name": "python",
   "nbconvert_exporter": "python",
   "pygments_lexer": "ipython3",
   "version": "3.10.12"
  }
 },
 "nbformat": 4,
 "nbformat_minor": 4
}
