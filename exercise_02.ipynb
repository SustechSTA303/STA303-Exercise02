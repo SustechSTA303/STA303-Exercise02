{
 "cells": [
  {
   "cell_type": "markdown",
   "metadata": {},
   "source": [
    "# Exercise 02: Multi-class Classification \n",
    "In this exercise, you will train a deep model on the CIFAR10 from the scratch using PyTorch. The following tasks should be done:\n",
    "- Task 1: per batch training/testing\n",
    "- Task 2: Instance inference and visualization"
   ]
  },
  {
   "cell_type": "markdown",
   "metadata": {},
   "source": [
    "### Basic Imports"
   ]
  },
  {
   "cell_type": "code",
   "execution_count": 239,
   "metadata": {},
   "outputs": [],
   "source": [
    "import os\n",
    "import time\n",
    "import os.path as osp\n",
    "\n",
    "import numpy as np\n",
    "import pandas as pd\n",
    "\n",
    "import torch\n",
    "import torch.nn as nn\n",
    "import torch.nn.functional as F\n",
    "import torch.optim as optim\n",
    "from torch.utils.data import DataLoader\n",
    "\n",
    "from torchvision import datasets\n",
    "from torchvision import transforms\n",
    "import torchvision\n",
    "\n",
    "import matplotlib.pyplot as plt\n",
    "from PIL import Image"
   ]
  },
  {
   "cell_type": "markdown",
   "metadata": {},
   "source": [
    "### Hyperparameters"
   ]
  },
  {
   "cell_type": "code",
   "execution_count": 240,
   "metadata": {},
   "outputs": [],
   "source": [
    "# random seed\n",
    "SEED = 1 \n",
    "NUM_CLASS = 10\n",
    "\n",
    "# Training\n",
    "BATCH_SIZE = 128\n",
    "NUM_EPOCHS = 30\n",
    "EVAL_INTERVAL=1\n",
    "SAVE_DIR = './log'\n",
    "\n",
    "# Optimizer\n",
    "LEARNING_RATE = 1e-1\n",
    "MOMENTUM = 0.9\n",
    "STEP=5\n",
    "GAMMA=0.5\n"
   ]
  },
  {
   "cell_type": "markdown",
   "metadata": {},
   "source": [
    "### Device"
   ]
  },
  {
   "cell_type": "code",
   "execution_count": 241,
   "metadata": {},
   "outputs": [],
   "source": [
    "device = torch.device(\"cuda:0\" if torch.cuda.is_available() else \"cpu\")"
   ]
  },
  {
   "cell_type": "markdown",
   "metadata": {},
   "source": [
    "\n",
    "### Dataset\n"
   ]
  },
  {
   "cell_type": "code",
   "execution_count": 242,
   "metadata": {},
   "outputs": [
    {
     "name": "stdout",
     "output_type": "stream",
     "text": [
      "Files already downloaded and verified\n",
      "Files already downloaded and verified\n"
     ]
    }
   ],
   "source": [
    "# cifar10 transform\n",
    "transform_cifar10_train = transforms.Compose([\n",
    "    transforms.RandomCrop(32, padding=4),\n",
    "    transforms.RandomHorizontalFlip(),\n",
    "    transforms.ToTensor(),\n",
    "    transforms.Normalize((0.4914, 0.4822, 0.4465), (0.2023, 0.1994, 0.2010)),\n",
    "])\n",
    "\n",
    "transform_cifar10_test = transforms.Compose([\n",
    "    transforms.ToTensor(),\n",
    "    transforms.Normalize((0.4914, 0.4822, 0.4465), (0.2023, 0.1994, 0.2010)),\n",
    "])\n",
    "\n",
    "train_set = torchvision.datasets.CIFAR10(root='../data', train=True,\n",
    "                                        download=True, transform=transform_cifar10_train)\n",
    "train_dataloader = torch.utils.data.DataLoader(train_set, batch_size=BATCH_SIZE,\n",
    "                                          shuffle=True, num_workers=2)\n",
    "\n",
    "test_set = torchvision.datasets.CIFAR10(root='../data', train=False,\n",
    "                                       download=True, transform=transform_cifar10_test)\n",
    "test_dataloader = torch.utils.data.DataLoader(test_set, batch_size=BATCH_SIZE,\n",
    "                                         shuffle=False, num_workers=2)\n",
    "\n",
    "class_names = ['airplane', 'automobile', 'bird', 'cat', 'deer', 'dog', 'frog', 'horse', 'ship', 'truck']\n"
   ]
  },
  {
   "cell_type": "markdown",
   "metadata": {},
   "source": [
    "### Model"
   ]
  },
  {
   "cell_type": "code",
   "execution_count": 243,
   "metadata": {},
   "outputs": [],
   "source": [
    "class ConvNet(nn.Module):\n",
    "    def __init__(self):\n",
    "        super(ConvNet, self).__init__()\n",
    "        self.conv1 = nn.Conv2d(3, 4, 3)  \n",
    "        self.pool = nn.MaxPool2d(2, 2)\n",
    "        self.conv2 = nn.Conv2d(4, 8, 3)  \n",
    "        self.fc1 = nn.Linear(8 * 6 * 6, 32)\n",
    "        self.fc2 = nn.Linear(32, 10)\n",
    "\n",
    "    def forward(self, x):\n",
    "        x = self.pool(torch.relu(self.conv1(x)))\n",
    "        x = self.pool(torch.relu(self.conv2(x)))\n",
    "        x = x.view(-1, 8 * 6 * 6)\n",
    "        x = torch.relu(self.fc1(x))\n",
    "        x = self.fc2(x)\n",
    "        return x"
   ]
  },
  {
   "cell_type": "code",
   "execution_count": 244,
   "metadata": {},
   "outputs": [
    {
     "data": {
      "text/plain": [
       "ConvNet(\n",
       "  (conv1): Conv2d(3, 4, kernel_size=(3, 3), stride=(1, 1))\n",
       "  (pool): MaxPool2d(kernel_size=2, stride=2, padding=0, dilation=1, ceil_mode=False)\n",
       "  (conv2): Conv2d(4, 8, kernel_size=(3, 3), stride=(1, 1))\n",
       "  (fc1): Linear(in_features=288, out_features=32, bias=True)\n",
       "  (fc2): Linear(in_features=32, out_features=10, bias=True)\n",
       ")"
      ]
     },
     "execution_count": 244,
     "metadata": {},
     "output_type": "execute_result"
    }
   ],
   "source": [
    "model = ConvNet()\n",
    "model.to(device)"
   ]
  },
  {
   "cell_type": "markdown",
   "metadata": {},
   "source": [
    "### Optimizer"
   ]
  },
  {
   "cell_type": "code",
   "execution_count": 245,
   "metadata": {},
   "outputs": [],
   "source": [
    "optimizer = optim.SGD(model.parameters(), lr=LEARNING_RATE, momentum=MOMENTUM)\n",
    "#lr=LEARNING_RATE就是step_size\n",
    "\n",
    "scheduler = torch.optim.lr_scheduler.StepLR(optimizer, step_size=STEP, gamma=GAMMA)"
   ]
  },
  {
   "cell_type": "markdown",
   "metadata": {},
   "source": [
    "### Task 1: per batch training/testing\n",
    "---\n",
    "\n",
    "Please denfine two function named ``train_batch`` and ``test_batch``. These functions are essential for training and evaluating machine learning models using batched data from dataloaders.\n",
    "\n",
    "**To do**: \n",
    "1. Define the loss function i.e [nn.CrossEntropyLoss()](https://pytorch.org/docs/stable/generated/torch.nn.CrossEntropyLoss.html).\n",
    "2. Take the image as the input and generate the output using the pre-defined SimpleNet.\n",
    "3. Calculate the loss between the output and the corresponding label using the loss function."
   ]
  },
  {
   "cell_type": "code",
   "execution_count": 246,
   "metadata": {},
   "outputs": [],
   "source": [
    "##################### Write your answer here ##################\n",
    "# Define the loss function\n",
    "#criterion = \n",
    "###############################################################\n",
    "\n",
    "# Example of target with class indices\n",
    "criterion = nn.CrossEntropyLoss()\n",
    "# input = torch.randn(3, 5, requires_grad=True)\n",
    "# target = torch.empty(3, dtype=torch.long).random_(5)\n",
    "# output = loss(input, target)\n",
    "# output.backward()\n",
    "\n",
    "# # Example of target with class probabilities\n",
    "# input = torch.randn(3, 5, requires_grad=True)\n",
    "# target = torch.randn(3, 5).softmax(dim=1)\n",
    "# output = loss(input, target)\n",
    "# output.backward()"
   ]
  },
  {
   "cell_type": "code",
   "execution_count": 247,
   "metadata": {},
   "outputs": [],
   "source": [
    "def train_batch(model, image, target):\n",
    "    \"\"\"\n",
    "    Perform one training batch iteration.\n",
    "\n",
    "    Args:\n",
    "        model (torch.nn.Module): The machine learning model to train.\n",
    "        image (torch.Tensor): Batch of input data (images).\n",
    "        target (torch.Tensor): Batch of target labels.\n",
    "\n",
    "    Returns:\n",
    "        torch.Tensor: Model output (predictions) for the batch.\n",
    "        torch.Tensor: Loss value calculated by the defined loss function loss_fn().\n",
    "    \"\"\"\n",
    "    \n",
    "    ##################### Write your answer here ##################\n",
    "    \n",
    "    ###############################################################\n",
    "    \n",
    "    ##################### Write your answer here ##################\n",
    "    output = model(image)\n",
    "    loss = criterion(output, target)\n",
    "    ###############################################################\n",
    "\n",
    "    return output, loss"
   ]
  },
  {
   "cell_type": "code",
   "execution_count": 248,
   "metadata": {},
   "outputs": [],
   "source": [
    "def test_batch(model, image, target):\n",
    "    \"\"\"\n",
    "    Perform one testing batch iteration.\n",
    "\n",
    "    Args:\n",
    "        model (torch.nn.Module): The machine learning model to evaluate.\n",
    "        image (torch.Tensor): Batch of input data (images).\n",
    "        target (torch.Tensor): Batch of target labels.\n",
    "\n",
    "    Returns:\n",
    "        torch.Tensor: Model output (predictions) for the batch.\n",
    "        torch.Tensor: Loss value calculated for the batch.\n",
    "    \"\"\"\n",
    "    \n",
    "    ##################### Write your answer here ##################\n",
    "    \n",
    "    ###############################################################\n",
    "    \n",
    "    ##################### Write your answer here ##################\n",
    "    output = model(image)\n",
    "    loss = criterion(output, target)\n",
    "    ###############################################################\n",
    "\n",
    "    return output, loss"
   ]
  },
  {
   "cell_type": "markdown",
   "metadata": {},
   "source": [
    "### Model Training"
   ]
  },
  {
   "cell_type": "code",
   "execution_count": 249,
   "metadata": {},
   "outputs": [
    {
     "name": "stdout",
     "output_type": "stream",
     "text": [
      "Epoch: 1/30 Train Loss: 0.0149 Acc: 0.2960\n",
      "Begin test......\n"
     ]
    },
    {
     "name": "stderr",
     "output_type": "stream",
     "text": [
      "/tmp/ipykernel_88/1637500696.py:70: UserWarning: To copy construct from a tensor, it is recommended to use sourceTensor.clone().detach() or sourceTensor.clone().detach().requires_grad_(True), rather than torch.tensor(sourceTensor).\n",
      "  loss = torch.tensor(loss)\n"
     ]
    },
    {
     "name": "stdout",
     "output_type": "stream",
     "text": [
      "Test Loss: 0.0134 Acc: 0.3850\n",
      "Epoch: 2/30 Train Loss: 0.0138 Acc: 0.3466\n",
      "Begin test......\n",
      "Test Loss: 0.0131 Acc: 0.3915\n",
      "Epoch: 3/30 Train Loss: 0.0137 Acc: 0.3485\n",
      "Begin test......\n",
      "Test Loss: 0.0128 Acc: 0.3998\n",
      "Epoch: 4/30 Train Loss: 0.0135 Acc: 0.3601\n",
      "Begin test......\n",
      "Test Loss: 0.0130 Acc: 0.3926\n",
      "Epoch: 5/30 Train Loss: 0.0136 Acc: 0.3567\n",
      "Begin test......\n",
      "Test Loss: 0.0126 Acc: 0.4118\n",
      "Epoch: 6/30 Train Loss: 0.0127 Acc: 0.4004\n",
      "Begin test......\n",
      "Test Loss: 0.0118 Acc: 0.4507\n",
      "Epoch: 7/30 Train Loss: 0.0125 Acc: 0.4141\n",
      "Begin test......\n",
      "Test Loss: 0.0118 Acc: 0.4441\n",
      "Epoch: 8/30 Train Loss: 0.0124 Acc: 0.4214\n",
      "Begin test......\n",
      "Test Loss: 0.0116 Acc: 0.4594\n",
      "Epoch: 9/30 Train Loss: 0.0123 Acc: 0.4224\n",
      "Begin test......\n",
      "Test Loss: 0.0120 Acc: 0.4530\n",
      "Epoch: 10/30 Train Loss: 0.0122 Acc: 0.4289\n",
      "Begin test......\n",
      "Test Loss: 0.0117 Acc: 0.4561\n",
      "Epoch: 11/30 Train Loss: 0.0116 Acc: 0.4631\n",
      "Begin test......\n",
      "Test Loss: 0.0107 Acc: 0.5045\n",
      "Epoch: 12/30 Train Loss: 0.0115 Acc: 0.4657\n",
      "Begin test......\n",
      "Test Loss: 0.0108 Acc: 0.4959\n",
      "Epoch: 13/30 Train Loss: 0.0114 Acc: 0.4704\n",
      "Begin test......\n",
      "Test Loss: 0.0109 Acc: 0.4956\n",
      "Epoch: 14/30 Train Loss: 0.0114 Acc: 0.4714\n",
      "Begin test......\n",
      "Test Loss: 0.0114 Acc: 0.4741\n",
      "Epoch: 15/30 Train Loss: 0.0114 Acc: 0.4727\n",
      "Begin test......\n",
      "Test Loss: 0.0107 Acc: 0.5053\n",
      "Epoch: 16/30 Train Loss: 0.0110 Acc: 0.4936\n",
      "Begin test......\n",
      "Test Loss: 0.0103 Acc: 0.5283\n",
      "Epoch: 17/30 Train Loss: 0.0109 Acc: 0.4947\n",
      "Begin test......\n",
      "Test Loss: 0.0104 Acc: 0.5167\n",
      "Epoch: 18/30 Train Loss: 0.0108 Acc: 0.5023\n",
      "Begin test......\n",
      "Test Loss: 0.0101 Acc: 0.5342\n",
      "Epoch: 19/30 Train Loss: 0.0109 Acc: 0.5000\n",
      "Begin test......\n",
      "Test Loss: 0.0102 Acc: 0.5368\n",
      "Epoch: 20/30 Train Loss: 0.0108 Acc: 0.4977\n",
      "Begin test......\n",
      "Test Loss: 0.0101 Acc: 0.5331\n",
      "Epoch: 21/30 Train Loss: 0.0106 Acc: 0.5110\n",
      "Begin test......\n",
      "Test Loss: 0.0099 Acc: 0.5485\n",
      "Epoch: 22/30 Train Loss: 0.0106 Acc: 0.5109\n",
      "Begin test......\n",
      "Test Loss: 0.0101 Acc: 0.5382\n",
      "Epoch: 23/30 Train Loss: 0.0105 Acc: 0.5154\n",
      "Begin test......\n",
      "Test Loss: 0.0099 Acc: 0.5432\n",
      "Epoch: 24/30 Train Loss: 0.0105 Acc: 0.5154\n",
      "Begin test......\n",
      "Test Loss: 0.0099 Acc: 0.5479\n",
      "Epoch: 25/30 Train Loss: 0.0105 Acc: 0.5164\n",
      "Begin test......\n",
      "Test Loss: 0.0100 Acc: 0.5407\n",
      "Epoch: 26/30 Train Loss: 0.0104 Acc: 0.5240\n",
      "Begin test......\n",
      "Test Loss: 0.0098 Acc: 0.5524\n",
      "Epoch: 27/30 Train Loss: 0.0104 Acc: 0.5215\n",
      "Begin test......\n",
      "Test Loss: 0.0098 Acc: 0.5531\n",
      "Epoch: 28/30 Train Loss: 0.0103 Acc: 0.5263\n",
      "Begin test......\n",
      "Test Loss: 0.0097 Acc: 0.5513\n",
      "Epoch: 29/30 Train Loss: 0.0103 Acc: 0.5269\n",
      "Begin test......\n",
      "Test Loss: 0.0098 Acc: 0.5573\n",
      "Epoch: 30/30 Train Loss: 0.0103 Acc: 0.5275\n",
      "Begin test......\n",
      "Test Loss: 0.0097 Acc: 0.5579\n"
     ]
    }
   ],
   "source": [
    "training_loss = []\n",
    "training_acc = []\n",
    "testing_loss = []\n",
    "testing_acc = []\n",
    "\n",
    "for epoch in range(NUM_EPOCHS):\n",
    "    model.train()\n",
    "    torch.cuda.empty_cache()\n",
    "\n",
    "    ##########################\n",
    "    ### Training\n",
    "    ##########################\n",
    "\n",
    "    running_cls_loss = 0.0\n",
    "    running_cls_corrects = 0\n",
    "\n",
    "    for batch_idx, (image, target) in enumerate(train_dataloader):\n",
    "\n",
    "        image = image.to(device)\n",
    "        target = target.to(device)\n",
    "\n",
    "        # train model\n",
    "        outputs, loss = train_batch(model, image, target)\n",
    "        _, preds = torch.max(outputs, 1)\n",
    "\n",
    "        \n",
    "        loss_data = loss.data.item()\n",
    "        if np.isnan(loss_data):\n",
    "            raise ValueError('loss is nan while training')\n",
    "        running_cls_loss += loss.item()\n",
    "        running_cls_corrects += torch.sum(preds == target.data)\n",
    "\n",
    "        loss.backward()\n",
    "        optimizer.step()\n",
    "        optimizer.zero_grad()\n",
    "\n",
    "    epoch_loss = running_cls_loss / len(train_set)\n",
    "    epoch_acc = running_cls_corrects.double() / len(train_set)\n",
    "\n",
    "    print(f'Epoch: {epoch+1}/{NUM_EPOCHS} Train Loss: {epoch_loss:.4f} Acc: {epoch_acc:.4f}')\n",
    "\n",
    "    training_loss.append(epoch_loss)\n",
    "    training_acc.append(epoch_acc.cpu().detach().numpy())\n",
    "\n",
    "    # change learning rate\n",
    "    scheduler.step()\n",
    "\n",
    "\n",
    "    ##########################\n",
    "    ### Testing\n",
    "    ##########################\n",
    "    # # eval model during training or in the last epoch\n",
    "    if (epoch + 1) % EVAL_INTERVAL == 0 or (epoch +1) == NUM_EPOCHS:\n",
    "        print('Begin test......')\n",
    "        model.eval()\n",
    "    \n",
    "        val_loss = 0.0\n",
    "        val_corrects = 0\n",
    "\n",
    "        for batch_idx, (image, target) in enumerate(test_dataloader):\n",
    "\n",
    "            image = image.to(device)\n",
    "            target = target.to(device)\n",
    "\n",
    "            # test model\n",
    "            outputs, loss = test_batch(model, image, target)\n",
    "            _, preds = torch.max(outputs, 1)\n",
    "            \n",
    "            #将浮点型的loss转化为tensor\n",
    "            loss = torch.tensor(loss)\n",
    "            #########################\n",
    "            \n",
    "            val_loss += loss.item()\n",
    "            val_corrects += torch.sum(preds == target.data)\n",
    "\n",
    "        val_loss = val_loss / len(test_set)\n",
    "        val_acc = val_corrects.double() / len(test_set)\n",
    "        print(f'Test Loss: {val_loss:.4f} Acc: {val_acc:.4f}')\n",
    "        testing_loss.append(val_loss)\n",
    "        testing_acc.append(val_acc.cpu().detach().numpy())\n",
    "\n",
    "        # save the model in last epoch\n",
    "        if (epoch +1) == NUM_EPOCHS:\n",
    "            \n",
    "            state = {\n",
    "            'state_dict': model.state_dict(),\n",
    "            'acc': epoch_acc,\n",
    "            'epoch': (epoch+1),\n",
    "            }\n",
    "\n",
    "            # check the dir\n",
    "            if not os.path.exists(SAVE_DIR):\n",
    "                os.makedirs(SAVE_DIR)\n",
    "\n",
    "            # save the state\n",
    "            torch.save(state, osp.join(SAVE_DIR, 'checkpoint_%s.pth' % (str(epoch+1))))"
   ]
  },
  {
   "cell_type": "markdown",
   "metadata": {},
   "source": [
    "### Task 2: Instance inference\n",
    "---\n",
    "The task is to visualizes an image along with model prediction and class probabilities.\n",
    "\n",
    "**To do**: \n",
    "1. Calculate the prediction and the probabilities for each class.\n",
    "         "
   ]
  },
  {
   "cell_type": "code",
   "execution_count": 250,
   "metadata": {},
   "outputs": [
    {
     "data": {
      "text/plain": [
       "tensor([[[ 0.6338,  0.6531,  0.7694,  ...,  0.2267,  0.0134, -0.1804],\n",
       "         [ 0.5174,  0.4981,  0.6531,  ...,  0.2073, -0.0060, -0.1223],\n",
       "         [ 0.4981,  0.4981,  0.6338,  ...,  0.2654,  0.0910, -0.1029],\n",
       "         ...,\n",
       "         [-1.1109, -1.6149, -1.8281,  ..., -1.6924, -2.1771, -1.6537],\n",
       "         [-1.2466, -1.4792, -1.7506,  ..., -1.9251, -1.8669, -2.0414],\n",
       "         [-1.3823, -1.3435, -1.5567,  ..., -1.9638, -1.7700, -2.0220]],\n",
       "\n",
       "        [[-0.2156, -0.2352, -0.1369,  ..., -0.5499, -0.6286, -0.7466],\n",
       "         [-0.2156, -0.2549, -0.1762,  ..., -0.5499, -0.6286, -0.6876],\n",
       "         [-0.2549, -0.2746, -0.2352,  ..., -0.4909, -0.5499, -0.6679],\n",
       "         ...,\n",
       "         [ 0.0204, -0.4516, -0.6876,  ..., -0.5106, -1.1596, -0.7466],\n",
       "         [-0.1369, -0.4122, -0.7466,  ..., -0.8056, -0.8056, -1.1596],\n",
       "         [-0.3139, -0.3532, -0.6679,  ..., -0.9039, -0.7662, -1.1006]],\n",
       "\n",
       "        [[-1.2654, -1.3044, -1.2264,  ..., -1.5190, -1.5190, -1.5776],\n",
       "         [-1.2264, -1.4410, -1.3434,  ..., -1.6166, -1.5971, -1.5580],\n",
       "         [-1.3044, -1.5776, -1.5190,  ..., -1.5580, -1.5580, -1.5776],\n",
       "         ...,\n",
       "         [ 1.2319,  0.6661,  0.4515,  ...,  0.6271, -0.1143,  0.2564],\n",
       "         [ 1.0563,  0.6661,  0.3540,  ...,  0.3149,  0.2369, -0.1338],\n",
       "         [ 0.9003,  0.6856,  0.3540,  ...,  0.1979,  0.2954, -0.0753]]])"
      ]
     },
     "execution_count": 250,
     "metadata": {},
     "output_type": "execute_result"
    }
   ],
   "source": [
    "inputs, classes = next(iter(test_dataloader))\n",
    "input = inputs[0]\n",
    "input\n",
    "# print(input)\n",
    "# image = input.numpy().transpose((1, 2, 0))\n",
    "# plt.imshow(image)"
   ]
  },
  {
   "cell_type": "code",
   "execution_count": 251,
   "metadata": {},
   "outputs": [
    {
     "name": "stdout",
     "output_type": "stream",
     "text": [
      "tensor([[0.0169, 0.0118, 0.0341, 0.3742, 0.0337, 0.2953, 0.0411, 0.0714, 0.0923,\n",
      "         0.0294]], device='cuda:0', grad_fn=<SoftmaxBackward0>)\n",
      "tensor(3, device='cuda:0')\n"
     ]
    },
    {
     "name": "stderr",
     "output_type": "stream",
     "text": [
      "/tmp/ipykernel_88/3395119992.py:7: UserWarning: Implicit dimension choice for softmax has been deprecated. Change the call to include dim=X as an argument.\n",
      "  probabilities = torch.nn.functional.softmax(model(input))\n"
     ]
    },
    {
     "data": {
      "text/plain": [
       "tensor(0.0118, device='cuda:0', grad_fn=<SelectBackward0>)"
      ]
     },
     "execution_count": 251,
     "metadata": {},
     "output_type": "execute_result"
    }
   ],
   "source": [
    "##################### Write your answer here ##################\n",
    "# input: image, model\n",
    "# outputs: predict_label, probabilities\n",
    "# predict_label is the index (or label) of the class with the highest probability from the probabilities.\n",
    "###############################################################\n",
    "input = input.to(device)\n",
    "probabilities = torch.nn.functional.softmax(model(input))\n",
    "print(probabilities)\n",
    "predict_label = torch.argmax(probabilities)\n",
    "print(predict_label)\n",
    "#test:probabilities是一个二维tensor\n",
    "probabilities[0][1]"
   ]
  },
  {
   "cell_type": "code",
   "execution_count": 252,
   "metadata": {},
   "outputs": [
    {
     "name": "stderr",
     "output_type": "stream",
     "text": [
      "Clipping input data to the valid range for imshow with RGB data ([0..1] for floats or [0..255] for integers).\n"
     ]
    },
    {
     "data": {
      "image/png": "[encoded data removed]",
      "text/plain": [
       "<Figure size 640x480 with 1 Axes>"
      ]
     },
     "metadata": {},
     "output_type": "display_data"
    },
    {
     "name": "stdout",
     "output_type": "stream",
     "text": [
      "Print probabilities for each class:\n",
      "airplane: 0.0169\n",
      "automobile: 0.0118\n",
      "bird: 0.0341\n",
      "cat: 0.3742\n",
      "deer: 0.0337\n",
      "dog: 0.2953\n",
      "frog: 0.0411\n",
      "horse: 0.0714\n",
      "ship: 0.0923\n",
      "truck: 0.0294\n"
     ]
    }
   ],
   "source": [
    "predicted_class = class_names[predict_label.item()]\n",
    "predicted_probability = probabilities[0][predict_label].item()\n",
    "image = input.cpu().numpy().transpose((1, 2, 0))\n",
    "plt.imshow(image)\n",
    "plt.text(17, 30, f'Predicted Class: {predicted_class}\\nProbability: {predicted_probability:.2f}', \n",
    "            color='white', backgroundcolor='black', fontsize=8)\n",
    "plt.show()\n",
    "\n",
    "# Print probabilities for each class\n",
    "print('Print probabilities for each class:')\n",
    "for i in range(len(class_names)):\n",
    "    print(f'{class_names[i]}: {probabilities[0][i].item():.4f}')"
   ]
  }
 ],
 "metadata": {
  "kernelspec": {
   "display_name": "Python 3 (ipykernel)",
   "language": "python",
   "name": "python3"
  },
  "language_info": {
   "codemirror_mode": {
    "name": "ipython",
    "version": 3
   },
   "file_extension": ".py",
   "mimetype": "text/x-python",
   "name": "python",
   "nbconvert_exporter": "python",
   "pygments_lexer": "ipython3",
   "version": "3.10.12"
  }
 },
 "nbformat": 4,
 "nbformat_minor": 4
}
