{
 "cells": [
  {
   "cell_type": "markdown",
   "metadata": {},
   "source": [
    "# Exercise 02: Multi-class Classification \n",
    "In this exercise, you will train a deep model on the CIFAR10 from the scratch using PyTorch. The following tasks should be done:\n",
    "- Task 1: per batch training/testing\n",
    "- Task 2: Instance inference and visualization"
   ]
  },
  {
   "cell_type": "markdown",
   "metadata": {},
   "source": [
    "### Basic Imports"
   ]
  },
  {
   "cell_type": "code",
   "execution_count": 1,
   "metadata": {},
   "outputs": [],
   "source": [
    "import os\n",
    "import time\n",
    "import os.path as osp\n",
    "\n",
    "import numpy as np\n",
    "import pandas as pd\n",
    "\n",
    "import torch\n",
    "import torch.nn as nn\n",
    "import torch.nn.functional as F\n",
    "import torch.optim as optim\n",
    "from torch.utils.data import DataLoader\n",
    "\n",
    "from torchvision import datasets\n",
    "from torchvision import transforms\n",
    "import torchvision\n",
    "\n",
    "import matplotlib.pyplot as plt\n",
    "from PIL import Image"
   ]
  },
  {
   "cell_type": "markdown",
   "metadata": {},
   "source": [
    "### Hyperparameters"
   ]
  },
  {
   "cell_type": "code",
   "execution_count": 2,
   "metadata": {},
   "outputs": [],
   "source": [
    "# random seed\n",
    "SEED = 1 \n",
    "NUM_CLASS = 10\n",
    "\n",
    "# Training\n",
    "BATCH_SIZE = 128\n",
    "NUM_EPOCHS = 30\n",
    "# Evaluate the model after 1 epoch.\n",
    "EVAL_INTERVAL=1\n",
    "SAVE_DIR = './log'\n",
    "\n",
    "# Optimizer\n",
    "LEARNING_RATE = 1e-1\n",
    "MOMENTUM = 0.9\n",
    "STEP=5\n",
    "GAMMA=0.5\n"
   ]
  },
  {
   "cell_type": "markdown",
   "metadata": {},
   "source": [
    "### Device"
   ]
  },
  {
   "cell_type": "code",
   "execution_count": 3,
   "metadata": {},
   "outputs": [],
   "source": [
    "device = torch.device(\"cuda:0\" if torch.cuda.is_available() else \"cpu\")"
   ]
  },
  {
   "cell_type": "markdown",
   "metadata": {},
   "source": [
    "\n",
    "### Dataset\n"
   ]
  },
  {
   "cell_type": "code",
   "execution_count": 4,
   "metadata": {},
   "outputs": [
    {
     "name": "stdout",
     "output_type": "stream",
     "text": [
      "Files already downloaded and verified\n",
      "Files already downloaded and verified\n"
     ]
    }
   ],
   "source": [
    "# cifar10 transform\n",
    "transform_cifar10_train = transforms.Compose([\n",
    "    # 随机裁剪图像为32x32像素大小，并在裁剪过程中进行4像素的填充。这可以增加数据的多样性，有助于模型更好地泛化。\n",
    "    transforms.RandomCrop(32, padding=4),\n",
    "    # 随机水平翻转图像，增加数据的多样性。\n",
    "    transforms.RandomHorizontalFlip(),\n",
    "    transforms.ToTensor(),\n",
    "    # Normalize(mean, std) \n",
    "    transforms.Normalize((0.4914, 0.4822, 0.4465), (0.2023, 0.1994, 0.2010)),\n",
    "])\n",
    "\n",
    "transform_cifar10_test = transforms.Compose([\n",
    "    transforms.ToTensor(),\n",
    "    transforms.Normalize((0.4914, 0.4822, 0.4465), (0.2023, 0.1994, 0.2010)),\n",
    "])\n",
    "\n",
    "train_set = torchvision.datasets.CIFAR10(root='../data', train=True,\n",
    "                                        download=True, transform=transform_cifar10_train)\n",
    "train_dataloader = torch.utils.data.DataLoader(train_set, batch_size=BATCH_SIZE,\n",
    "                                          shuffle=True, num_workers=2)\n",
    "\n",
    "test_set = torchvision.datasets.CIFAR10(root='../data', train=False,\n",
    "                                       download=True, transform=transform_cifar10_test)\n",
    "test_dataloader = torch.utils.data.DataLoader(test_set, batch_size=BATCH_SIZE,\n",
    "                                         shuffle=False, num_workers=2)\n",
    "\n",
    "class_names = ['airplane', 'automobile', 'bird', 'cat', 'deer', 'dog', 'frog', 'horse', 'ship', 'truck']\n"
   ]
  },
  {
   "cell_type": "markdown",
   "metadata": {},
   "source": [
    "### Model"
   ]
  },
  {
   "cell_type": "code",
   "execution_count": 5,
   "metadata": {},
   "outputs": [],
   "source": [
    "class ConvNet(nn.Module):\n",
    "    def __init__(self):\n",
    "        super(ConvNet, self).__init__()\n",
    "        #这是第一个卷积层，输入通道数为3（因为通常是RGB图像），输出通道数为4，卷积核大小为3x3:\n",
    "        self.conv1 = nn.Conv2d(3, 4, 3)  \n",
    "        # 这是最大池化层，用于减小特征图的尺寸。池化窗口大小为2x2，步幅也为2:\n",
    "        self.pool = nn.MaxPool2d(2, 2)\n",
    "        # 这是第二个卷积层，输入通道数为4（来自前一个卷积层的输出通道数），输出通道数为8，卷积核大小为3x3:\n",
    "        self.conv2 = nn.Conv2d(4, 8, 3) \n",
    "        # 这是全连接层1，接受来自卷积层的展平特征，输入维度为8x6x6（根据前面卷积和池化层的尺寸计算得到），输出维度为32:\n",
    "        self.fc1 = nn.Linear(8 * 6 * 6, 32)\n",
    "        # 这是全连接层2，输出维度为10，对应于CIFAR-10数据集的10个类别:\n",
    "        self.fc2 = nn.Linear(32, 10)\n",
    "        \n",
    "    # 这是前向传播函数，定义了数据在模型中的前向传播路径:\n",
    "    def forward(self, x):\n",
    "        x = self.pool(torch.relu(self.conv1(x)))\n",
    "        x = self.pool(torch.relu(self.conv2(x)))\n",
    "        x = x.view(-1, 8 * 6 * 6)\n",
    "        x = torch.relu(self.fc1(x))\n",
    "        x = self.fc2(x)\n",
    "        return x"
   ]
  },
  {
   "cell_type": "code",
   "execution_count": 6,
   "metadata": {},
   "outputs": [],
   "source": [
    "model = ConvNet()"
   ]
  },
  {
   "cell_type": "markdown",
   "metadata": {},
   "source": [
    "### Optimizer"
   ]
  },
  {
   "cell_type": "code",
   "execution_count": 7,
   "metadata": {},
   "outputs": [],
   "source": [
    "optimizer = optim.SGD(model.parameters(), lr=LEARNING_RATE, momentum=MOMENTUM)\n",
    "\n",
    "# 这行代码创建了一个学习率调度器，用于在训练过程中动态调整学习率:\n",
    "scheduler = torch.optim.lr_scheduler.StepLR(optimizer, step_size=STEP, gamma=GAMMA)"
   ]
  },
  {
   "cell_type": "markdown",
   "metadata": {},
   "source": [
    "### Task 1: per batch training/testing\n",
    "---\n",
    "\n",
    "Please denfine two function named ``train_batch`` and ``test_batch``. These functions are essential for training and evaluating machine learning models using batched data from dataloaders.\n",
    "\n",
    "**To do**: \n",
    "1. Define the loss function i.e [nn.CrossEntropyLoss()](https://pytorch.org/docs/stable/generated/torch.nn.CrossEntropyLoss.html).\n",
    "2. Take the image as the input and generate the output using the pre-defined SimpleNet.\n",
    "3. Calculate the loss between the output and the corresponding label using the loss function."
   ]
  },
  {
   "cell_type": "code",
   "execution_count": 8,
   "metadata": {},
   "outputs": [],
   "source": [
    "##################### Write your answer here ##################\n",
    "# Define the loss function\n",
    "criterion = nn.CrossEntropyLoss()\n",
    "###############################################################"
   ]
  },
  {
   "cell_type": "code",
   "execution_count": 9,
   "metadata": {},
   "outputs": [],
   "source": [
    "def train_batch(model, image, target):\n",
    "    \"\"\"\n",
    "    Perform one training batch iteration.\n",
    "\n",
    "    Args:\n",
    "        model (torch.nn.Module): The machine learning model to train.\n",
    "        image (torch.Tensor): Batch of input data (images).\n",
    "        target (torch.Tensor): Batch of target labels.\n",
    "\n",
    "    Returns:\n",
    "        torch.Tensor: Model output (predictions) for the batch.\n",
    "        torch.Tensor: Loss value calculated by the defined loss function loss_fn().\n",
    "    \"\"\"\n",
    "    \n",
    "    ##################### Write your answer here ##################\n",
    "    output = model(image)\n",
    "    loss = criterion(output, target)\n",
    "    ###############################################################\n",
    "\n",
    "    return output, loss"
   ]
  },
  {
   "cell_type": "code",
   "execution_count": 10,
   "metadata": {},
   "outputs": [],
   "source": [
    "def test_batch(model, image, target):\n",
    "    \"\"\"\n",
    "    Perform one testing batch iteration.\n",
    "\n",
    "    Args:\n",
    "        model (torch.nn.Module): The machine learning model to evaluate.\n",
    "        image (torch.Tensor): Batch of input data (images).\n",
    "        target (torch.Tensor): Batch of target labels.\n",
    "\n",
    "    Returns:\n",
    "        torch.Tensor: Model output (predictions) for the batch.\n",
    "        torch.Tensor: Loss value calculated for the batch.\n",
    "    \"\"\"\n",
    "\n",
    "    ##################### Write your answer here ##################\n",
    "    output = model(image)\n",
    "    loss = criterion(output, target)\n",
    "    ###############################################################\n",
    "\n",
    "    return output, loss"
   ]
  },
  {
   "cell_type": "markdown",
   "metadata": {},
   "source": [
    "### Model Training"
   ]
  },
  {
   "cell_type": "code",
   "execution_count": 11,
   "metadata": {},
   "outputs": [
    {
     "name": "stdout",
     "output_type": "stream",
     "text": [
      "Epoch: 1/30 Train Loss: 0.0150 Acc: 0.2816\n",
      "Begin test......\n",
      "Test Loss: 0.0139 Acc: 0.3492\n",
      "Epoch: 2/30 Train Loss: 0.0138 Acc: 0.3426\n",
      "Begin test......\n",
      "Test Loss: 0.0130 Acc: 0.3982\n",
      "Epoch: 3/30 Train Loss: 0.0136 Acc: 0.3600\n",
      "Begin test......\n",
      "Test Loss: 0.0130 Acc: 0.3890\n",
      "Epoch: 4/30 Train Loss: 0.0133 Acc: 0.3728\n",
      "Begin test......\n",
      "Test Loss: 0.0130 Acc: 0.3948\n",
      "Epoch: 5/30 Train Loss: 0.0132 Acc: 0.3831\n",
      "Begin test......\n",
      "Test Loss: 0.0127 Acc: 0.4182\n",
      "Epoch: 6/30 Train Loss: 0.0124 Acc: 0.4215\n",
      "Begin test......\n",
      "Test Loss: 0.0120 Acc: 0.4489\n",
      "Epoch: 7/30 Train Loss: 0.0122 Acc: 0.4364\n",
      "Begin test......\n",
      "Test Loss: 0.0120 Acc: 0.4470\n",
      "Epoch: 8/30 Train Loss: 0.0120 Acc: 0.4406\n",
      "Begin test......\n",
      "Test Loss: 0.0114 Acc: 0.4747\n",
      "Epoch: 9/30 Train Loss: 0.0120 Acc: 0.4429\n",
      "Begin test......\n",
      "Test Loss: 0.0116 Acc: 0.4754\n",
      "Epoch: 10/30 Train Loss: 0.0119 Acc: 0.4484\n",
      "Begin test......\n",
      "Test Loss: 0.0111 Acc: 0.4913\n",
      "Epoch: 11/30 Train Loss: 0.0113 Acc: 0.4739\n",
      "Begin test......\n",
      "Test Loss: 0.0108 Acc: 0.5026\n",
      "Epoch: 12/30 Train Loss: 0.0112 Acc: 0.4843\n",
      "Begin test......\n",
      "Test Loss: 0.0108 Acc: 0.5125\n",
      "Epoch: 13/30 Train Loss: 0.0112 Acc: 0.4842\n",
      "Begin test......\n",
      "Test Loss: 0.0105 Acc: 0.5276\n",
      "Epoch: 14/30 Train Loss: 0.0111 Acc: 0.4860\n",
      "Begin test......\n",
      "Test Loss: 0.0106 Acc: 0.5257\n",
      "Epoch: 15/30 Train Loss: 0.0111 Acc: 0.4864\n",
      "Begin test......\n",
      "Test Loss: 0.0108 Acc: 0.5089\n",
      "Epoch: 16/30 Train Loss: 0.0107 Acc: 0.5092\n",
      "Begin test......\n",
      "Test Loss: 0.0101 Acc: 0.5433\n",
      "Epoch: 17/30 Train Loss: 0.0107 Acc: 0.5085\n",
      "Begin test......\n",
      "Test Loss: 0.0099 Acc: 0.5511\n",
      "Epoch: 18/30 Train Loss: 0.0106 Acc: 0.5147\n",
      "Begin test......\n",
      "Test Loss: 0.0100 Acc: 0.5451\n",
      "Epoch: 19/30 Train Loss: 0.0105 Acc: 0.5159\n",
      "Begin test......\n",
      "Test Loss: 0.0099 Acc: 0.5499\n",
      "Epoch: 20/30 Train Loss: 0.0105 Acc: 0.5152\n",
      "Begin test......\n",
      "Test Loss: 0.0098 Acc: 0.5550\n",
      "Epoch: 21/30 Train Loss: 0.0103 Acc: 0.5283\n",
      "Begin test......\n",
      "Test Loss: 0.0098 Acc: 0.5619\n",
      "Epoch: 22/30 Train Loss: 0.0103 Acc: 0.5306\n",
      "Begin test......\n",
      "Test Loss: 0.0098 Acc: 0.5634\n",
      "Epoch: 23/30 Train Loss: 0.0102 Acc: 0.5294\n",
      "Begin test......\n",
      "Test Loss: 0.0097 Acc: 0.5662\n",
      "Epoch: 24/30 Train Loss: 0.0102 Acc: 0.5321\n",
      "Begin test......\n",
      "Test Loss: 0.0097 Acc: 0.5638\n",
      "Epoch: 25/30 Train Loss: 0.0102 Acc: 0.5334\n",
      "Begin test......\n",
      "Test Loss: 0.0096 Acc: 0.5655\n",
      "Epoch: 26/30 Train Loss: 0.0101 Acc: 0.5395\n",
      "Begin test......\n",
      "Test Loss: 0.0095 Acc: 0.5726\n",
      "Epoch: 27/30 Train Loss: 0.0101 Acc: 0.5394\n",
      "Begin test......\n",
      "Test Loss: 0.0096 Acc: 0.5742\n",
      "Epoch: 28/30 Train Loss: 0.0100 Acc: 0.5424\n",
      "Begin test......\n",
      "Test Loss: 0.0095 Acc: 0.5744\n",
      "Epoch: 29/30 Train Loss: 0.0099 Acc: 0.5456\n",
      "Begin test......\n",
      "Test Loss: 0.0095 Acc: 0.5705\n",
      "Epoch: 30/30 Train Loss: 0.0100 Acc: 0.5432\n",
      "Begin test......\n",
      "Test Loss: 0.0095 Acc: 0.5757\n"
     ]
    }
   ],
   "source": [
    "training_loss = []\n",
    "training_acc = []\n",
    "testing_loss = []\n",
    "testing_acc = []\n",
    "\n",
    "model.to(device)\n",
    "for epoch in range(NUM_EPOCHS):\n",
    "    model.train()\n",
    "    torch.cuda.empty_cache()\n",
    "\n",
    "    ##########################\n",
    "    ### Training\n",
    "    ##########################\n",
    "\n",
    "    running_cls_loss = 0.0\n",
    "    running_cls_corrects = 0\n",
    "\n",
    "    for batch_idx, (image, target) in enumerate(train_dataloader):\n",
    "\n",
    "        image = image.to(device)\n",
    "        target = target.to(device)\n",
    "\n",
    "        # train model\n",
    "        outputs, loss = train_batch(model, image, target)\n",
    "        _, preds = torch.max(outputs, 1)\n",
    "        \n",
    "        \n",
    "        loss_data = loss.data.item()\n",
    "        if np.isnan(loss_data):\n",
    "            raise ValueError('loss is nan while training')\n",
    "        running_cls_loss += loss.item()\n",
    "        running_cls_corrects += torch.sum(preds == target.data)\n",
    "\n",
    "        loss.backward()\n",
    "        optimizer.step()\n",
    "        optimizer.zero_grad()\n",
    "\n",
    "    epoch_loss = running_cls_loss / len(train_set)\n",
    "    epoch_acc = running_cls_corrects.double() / len(train_set)\n",
    "\n",
    "    print(f'Epoch: {epoch+1}/{NUM_EPOCHS} Train Loss: {epoch_loss:.4f} Acc: {epoch_acc:.4f}')\n",
    "\n",
    "    training_loss.append(epoch_loss)\n",
    "    training_acc.append(epoch_acc.cpu().detach().numpy())\n",
    "\n",
    "    # change learning rate\n",
    "    scheduler.step()\n",
    "\n",
    "\n",
    "    ##########################\n",
    "    ### Testing\n",
    "    ##########################\n",
    "    # # eval model during training or in the last epoch\n",
    "    if (epoch + 1) % EVAL_INTERVAL == 0 or (epoch +1) == NUM_EPOCHS:\n",
    "        print('Begin test......')\n",
    "        model.eval()\n",
    "    \n",
    "        val_loss = 0.0\n",
    "        val_corrects = 0\n",
    "\n",
    "        for batch_idx, (image, target) in enumerate(test_dataloader):\n",
    "\n",
    "            image = image.to(device)\n",
    "            target = target.to(device)\n",
    "\n",
    "            # test model\n",
    "            outputs, loss = test_batch(model, image, target)\n",
    "            _, preds = torch.max(outputs, 1)\n",
    "            \n",
    "            val_loss += loss.item()\n",
    "            val_corrects += torch.sum(preds == target.data)\n",
    "\n",
    "        val_loss = val_loss / len(test_set)\n",
    "        val_acc = val_corrects.double() / len(test_set)\n",
    "        print(f'Test Loss: {val_loss:.4f} Acc: {val_acc:.4f}')\n",
    "        testing_loss.append(val_loss)\n",
    "        testing_acc.append(val_acc.cpu().detach().numpy())\n",
    "\n",
    "        # save the model in last epoch\n",
    "        if (epoch +1) == NUM_EPOCHS:\n",
    "            \n",
    "            state = {\n",
    "            'state_dict': model.state_dict(),\n",
    "            'acc': epoch_acc,\n",
    "            'epoch': (epoch+1),\n",
    "            }\n",
    "\n",
    "            # check the dir\n",
    "            if not os.path.exists(SAVE_DIR):\n",
    "                os.makedirs(SAVE_DIR)\n",
    "\n",
    "            # save the state\n",
    "            torch.save(state, osp.join(SAVE_DIR, 'checkpoint_%s.pth' % (str(epoch+1))))"
   ]
  },
  {
   "cell_type": "markdown",
   "metadata": {},
   "source": [
    "### Task 2: Instance inference\n",
    "---\n",
    "The task is to visualizes an image along with model prediction and class probabilities.\n",
    "\n",
    "**To do**: \n",
    "1. Calculate the prediction and the probabilities for each class.\n",
    "         "
   ]
  },
  {
   "cell_type": "code",
   "execution_count": 12,
   "metadata": {},
   "outputs": [],
   "source": [
    "inputs, classes = next(iter(test_dataloader))\n",
    "input = inputs[0]"
   ]
  },
  {
   "cell_type": "code",
   "execution_count": 13,
   "metadata": {},
   "outputs": [
    {
     "data": {
      "text/plain": [
       "tensor([[0.0201, 0.0063, 0.0464, 0.3576, 0.0222, 0.3272, 0.0271, 0.0882, 0.0680,\n",
       "         0.0369]], device='cuda:0', grad_fn=<SoftmaxBackward0>)"
      ]
     },
     "execution_count": 13,
     "metadata": {},
     "output_type": "execute_result"
    }
   ],
   "source": [
    "##################### Write your answer here ##################\n",
    "# input: image, model\n",
    "# outputs: predict_label, probabilities\n",
    "# predict_label is the index (or label) of the class with the highest probability from the probabilities.\n",
    "###############################################################\n",
    "output = model(input.to(device))\n",
    "probabilities = F.softmax(output, dim=1)\n",
    "predict_label = torch.argmax(probabilities, dim=1)\n",
    "probabilities"
   ]
  },
  {
   "cell_type": "code",
   "execution_count": 15,
   "metadata": {},
   "outputs": [
    {
     "name": "stderr",
     "output_type": "stream",
     "text": [
      "Clipping input data to the valid range for imshow with RGB data ([0..1] for floats or [0..255] for integers).\n"
     ]
    },
    {
     "data": {
      "image/png": "[encoded data removed]",
      "text/plain": [
       "<Figure size 640x480 with 1 Axes>"
      ]
     },
     "metadata": {},
     "output_type": "display_data"
    },
    {
     "name": "stdout",
     "output_type": "stream",
     "text": [
      "Print probabilities for each class:\n",
      "airplane: 0.0201\n",
      "automobile: 0.0063\n",
      "bird: 0.0464\n",
      "cat: 0.3576\n",
      "deer: 0.0222\n",
      "dog: 0.3272\n",
      "frog: 0.0271\n",
      "horse: 0.0882\n",
      "ship: 0.0680\n",
      "truck: 0.0369\n"
     ]
    }
   ],
   "source": [
    "predicted_class = class_names[predict_label.item()]\n",
    "predicted_probability = probabilities[0][predict_label].item()\n",
    "image = input.numpy().transpose((1, 2, 0))\n",
    "plt.imshow(image)\n",
    "plt.text(17, 30, f'Predicted Class: {predicted_class}\\nProbability: {predicted_probability:.2f}', \n",
    "            color='white', backgroundcolor='black', fontsize=8)\n",
    "plt.show()\n",
    "\n",
    "# Print probabilities for each class\n",
    "print('Print probabilities for each class:')\n",
    "for i in range(len(class_names)):\n",
    "    print(f'{class_names[i]}: {probabilities[0][i].item():.4f}')"
   ]
  },
  {
   "cell_type": "code",
   "execution_count": null,
   "metadata": {},
   "outputs": [],
   "source": []
  }
 ],
 "metadata": {
  "kernelspec": {
   "display_name": "Python 3 (ipykernel)",
   "language": "python",
   "name": "python3"
  },
  "language_info": {
   "codemirror_mode": {
    "name": "ipython",
    "version": 3
   },
   "file_extension": ".py",
   "mimetype": "text/x-python",
   "name": "python",
   "nbconvert_exporter": "python",
   "pygments_lexer": "ipython3",
   "version": "3.10.12"
  }
 },
 "nbformat": 4,
 "nbformat_minor": 4
}
