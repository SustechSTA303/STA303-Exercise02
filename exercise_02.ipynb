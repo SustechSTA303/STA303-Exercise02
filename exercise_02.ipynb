{
 "cells": [
  {
   "cell_type": "markdown",
   "metadata": {},
   "source": [
    "# Exercise 02: Multi-class Classification \n",
    "In this exercise, you will train a deep model on the CIFAR10 from the scratch using PyTorch. The following tasks should be done:\n",
    "- Task 1: per batch training/testing\n",
    "- Task 2: Instance inference and visualization"
   ]
  },
  {
   "cell_type": "markdown",
   "metadata": {},
   "source": [
    "### Basic Imports"
   ]
  },
  {
   "cell_type": "code",
   "execution_count": 21,
   "metadata": {},
   "outputs": [],
   "source": [
    "import os\n",
    "import time\n",
    "import os.path as osp\n",
    "\n",
    "import numpy as np\n",
    "import pandas as pd\n",
    "\n",
    "import torch\n",
    "import torch.nn as nn\n",
    "import torch.nn.functional as F\n",
    "import torch.optim as optim\n",
    "from torch.utils.data import DataLoader\n",
    "\n",
    "from torchvision import datasets\n",
    "from torchvision import transforms\n",
    "import torchvision\n",
    "\n",
    "import matplotlib.pyplot as plt\n",
    "from PIL import Image"
   ]
  },
  {
   "cell_type": "markdown",
   "metadata": {},
   "source": [
    "### Hyperparameters"
   ]
  },
  {
   "cell_type": "code",
   "execution_count": 22,
   "metadata": {},
   "outputs": [],
   "source": [
    "# random seed\n",
    "SEED = 1 \n",
    "NUM_CLASS = 10\n",
    "\n",
    "# Training\n",
    "BATCH_SIZE = 128\n",
    "NUM_EPOCHS = 30\n",
    "EVAL_INTERVAL=1\n",
    "SAVE_DIR = './log'\n",
    "\n",
    "# Optimizer\n",
    "LEARNING_RATE = 1e-1\n",
    "MOMENTUM = 0.9\n",
    "STEP=5\n",
    "GAMMA=0.5\n"
   ]
  },
  {
   "cell_type": "markdown",
   "metadata": {},
   "source": [
    "### Device"
   ]
  },
  {
   "cell_type": "code",
   "execution_count": 23,
   "metadata": {},
   "outputs": [],
   "source": [
    "device = torch.device(\"cuda:0\" if torch.cuda.is_available() else \"cpu\")"
   ]
  },
  {
   "cell_type": "markdown",
   "metadata": {},
   "source": [
    "\n",
    "### Dataset\n"
   ]
  },
  {
   "cell_type": "code",
   "execution_count": 24,
   "metadata": {},
   "outputs": [
    {
     "name": "stdout",
     "output_type": "stream",
     "text": [
      "Files already downloaded and verified\n",
      "Files already downloaded and verified\n"
     ]
    }
   ],
   "source": [
    "# cifar10 transform\n",
    "transform_cifar10_train = transforms.Compose([\n",
    "    transforms.RandomCrop(32, padding=4),\n",
    "    transforms.RandomHorizontalFlip(),\n",
    "    transforms.ToTensor(),\n",
    "    transforms.Normalize((0.4914, 0.4822, 0.4465), (0.2023, 0.1994, 0.2010)),\n",
    "])\n",
    "\n",
    "transform_cifar10_test = transforms.Compose([\n",
    "    transforms.ToTensor(),\n",
    "    transforms.Normalize((0.4914, 0.4822, 0.4465), (0.2023, 0.1994, 0.2010)),\n",
    "])\n",
    "\n",
    "train_set = torchvision.datasets.CIFAR10(root='../data', train=True,\n",
    "                                        download=True, transform=transform_cifar10_train)\n",
    "train_dataloader = torch.utils.data.DataLoader(train_set, batch_size=BATCH_SIZE,\n",
    "                                          shuffle=True, num_workers=2)\n",
    "\n",
    "test_set = torchvision.datasets.CIFAR10(root='../data', train=False,\n",
    "                                       download=True, transform=transform_cifar10_test)\n",
    "test_dataloader = torch.utils.data.DataLoader(test_set, batch_size=BATCH_SIZE,\n",
    "                                         shuffle=False, num_workers=2)\n",
    "\n",
    "class_names = ['airplane', 'automobile', 'bird', 'cat', 'deer', 'dog', 'frog', 'horse', 'ship', 'truck']\n"
   ]
  },
  {
   "cell_type": "markdown",
   "metadata": {},
   "source": [
    "### Model"
   ]
  },
  {
   "cell_type": "code",
   "execution_count": 25,
   "metadata": {},
   "outputs": [],
   "source": [
    "class ConvNet(nn.Module):\n",
    "    def __init__(self):\n",
    "        super(ConvNet, self).__init__()\n",
    "        self.conv1 = nn.Conv2d(3, 4, 3)  \n",
    "        self.pool = nn.MaxPool2d(2, 2)\n",
    "        self.conv2 = nn.Conv2d(4, 8, 3)  \n",
    "        self.fc1 = nn.Linear(8 * 6 * 6, 32)\n",
    "        self.fc2 = nn.Linear(32, 10)\n",
    "\n",
    "    def forward(self, x):\n",
    "        x = self.pool(torch.relu(self.conv1(x)))\n",
    "        x = self.pool(torch.relu(self.conv2(x)))\n",
    "        x = x.view(-1, 8 * 6 * 6)\n",
    "        x = torch.relu(self.fc1(x))\n",
    "        x = self.fc2(x)\n",
    "        return x"
   ]
  },
  {
   "cell_type": "code",
   "execution_count": 32,
   "metadata": {},
   "outputs": [],
   "source": [
    "model = ConvNet()\n",
    "model = model.to(device)"
   ]
  },
  {
   "cell_type": "markdown",
   "metadata": {},
   "source": [
    "### Optimizer"
   ]
  },
  {
   "cell_type": "code",
   "execution_count": 33,
   "metadata": {},
   "outputs": [],
   "source": [
    "optimizer = optim.SGD(model.parameters(), lr=LEARNING_RATE, momentum=MOMENTUM)\n",
    "\n",
    "scheduler = torch.optim.lr_scheduler.StepLR(optimizer, step_size=STEP, gamma=GAMMA)"
   ]
  },
  {
   "cell_type": "markdown",
   "metadata": {},
   "source": [
    "### Task 1: per batch training/testing\n",
    "---\n",
    "\n",
    "Please denfine two function named ``train_batch`` and ``test_batch``. These functions are essential for training and evaluating machine learning models using batched data from dataloaders.\n",
    "\n",
    "**To do**: \n",
    "1. Define the loss function i.e [nn.CrossEntropyLoss()](https://pytorch.org/docs/stable/generated/torch.nn.CrossEntropyLoss.html).\n",
    "2. Take the image as the input and generate the output using the pre-defined SimpleNet.\n",
    "3. Calculate the loss between the output and the corresponding label using the loss function."
   ]
  },
  {
   "cell_type": "code",
   "execution_count": 34,
   "metadata": {},
   "outputs": [],
   "source": [
    "##################### Write your answer here ##################\n",
    "# Define the loss function\n",
    "criterion = nn.CrossEntropyLoss()\n",
    "###############################################################"
   ]
  },
  {
   "cell_type": "code",
   "execution_count": 35,
   "metadata": {},
   "outputs": [],
   "source": [
    "def train_batch(model, image, target):\n",
    "    \"\"\"\n",
    "    Perform one training batch iteration.\n",
    "\n",
    "    Args:\n",
    "        model (torch.nn.Module): The machine learning model to train.\n",
    "        image (torch.Tensor): Batch of input data (images).\n",
    "        target (torch.Tensor): Batch of target labels.\n",
    "\n",
    "    Returns:\n",
    "        torch.Tensor: Model output (predictions) for the batch.\n",
    "        torch.Tensor: Loss value calculated by the defined loss function loss_fn().\n",
    "    \"\"\"\n",
    "    \n",
    "    ##################### Write your answer here ##################\n",
    "    # Forward pass\n",
    "    output = model(image)\n",
    "    \n",
    "    # Calculate the loss using the defined loss function criterion\n",
    "    loss = criterion(output, target)\n",
    "    ###############################################################\n",
    "\n",
    "    return output, loss"
   ]
  },
  {
   "cell_type": "code",
   "execution_count": 36,
   "metadata": {},
   "outputs": [],
   "source": [
    "\n",
    "def test_batch(model, image, target):\n",
    "    \"\"\"\n",
    "    Perform one testing batch iteration.\n",
    "\n",
    "    Args:\n",
    "        model (torch.nn.Module): The machine learning model to evaluate.\n",
    "        image (torch.Tensor): Batch of input data (images).\n",
    "        target (torch.Tensor): Batch of target labels.\n",
    "\n",
    "    Returns:\n",
    "        torch.Tensor: Model output (predictions) for the batch.\n",
    "        torch.Tensor: Loss value calculated for the batch.\n",
    "    \"\"\"\n",
    "\n",
    "    ##################### Write your answer here ##################\n",
    "    # Forward pass\n",
    "    output = model(image)\n",
    "\n",
    "    # Calculate the loss using the defined loss function criterion\n",
    "    loss = criterion(output, target)\n",
    "    ###############################################################\n",
    "\n",
    "    return output, loss"
   ]
  },
  {
   "cell_type": "markdown",
   "metadata": {},
   "source": [
    "### Model Training"
   ]
  },
  {
   "cell_type": "code",
   "execution_count": 37,
   "metadata": {},
   "outputs": [
    {
     "name": "stdout",
     "output_type": "stream",
     "text": [
      "Epoch: 1/30 Train Loss: 0.0152 Acc: 0.2711\n",
      "Begin test......\n",
      "Test Loss: 0.0135 Acc: 0.3556\n",
      "Epoch: 2/30 Train Loss: 0.0140 Acc: 0.3363\n",
      "Begin test......\n",
      "Test Loss: 0.0132 Acc: 0.3817\n",
      "Epoch: 3/30 Train Loss: 0.0138 Acc: 0.3510\n",
      "Begin test......\n",
      "Test Loss: 0.0134 Acc: 0.3600\n",
      "Epoch: 4/30 Train Loss: 0.0136 Acc: 0.3577\n",
      "Begin test......\n",
      "Test Loss: 0.0131 Acc: 0.3914\n",
      "Epoch: 5/30 Train Loss: 0.0135 Acc: 0.3623\n",
      "Begin test......\n",
      "Test Loss: 0.0131 Acc: 0.3932\n",
      "Epoch: 6/30 Train Loss: 0.0127 Acc: 0.4068\n",
      "Begin test......\n",
      "Test Loss: 0.0124 Acc: 0.4355\n",
      "Epoch: 7/30 Train Loss: 0.0125 Acc: 0.4160\n",
      "Begin test......\n",
      "Test Loss: 0.0119 Acc: 0.4506\n",
      "Epoch: 8/30 Train Loss: 0.0123 Acc: 0.4209\n",
      "Begin test......\n",
      "Test Loss: 0.0120 Acc: 0.4481\n",
      "Epoch: 9/30 Train Loss: 0.0123 Acc: 0.4223\n",
      "Begin test......\n",
      "Test Loss: 0.0118 Acc: 0.4562\n",
      "Epoch: 10/30 Train Loss: 0.0121 Acc: 0.4318\n",
      "Begin test......\n",
      "Test Loss: 0.0115 Acc: 0.4670\n",
      "Epoch: 11/30 Train Loss: 0.0117 Acc: 0.4574\n",
      "Begin test......\n",
      "Test Loss: 0.0111 Acc: 0.4883\n",
      "Epoch: 12/30 Train Loss: 0.0115 Acc: 0.4634\n",
      "Begin test......\n",
      "Test Loss: 0.0108 Acc: 0.5041\n",
      "Epoch: 13/30 Train Loss: 0.0115 Acc: 0.4690\n",
      "Begin test......\n",
      "Test Loss: 0.0111 Acc: 0.4971\n",
      "Epoch: 14/30 Train Loss: 0.0114 Acc: 0.4710\n",
      "Begin test......\n",
      "Test Loss: 0.0108 Acc: 0.5027\n",
      "Epoch: 15/30 Train Loss: 0.0114 Acc: 0.4732\n",
      "Begin test......\n",
      "Test Loss: 0.0108 Acc: 0.5044\n",
      "Epoch: 16/30 Train Loss: 0.0110 Acc: 0.4903\n",
      "Begin test......\n",
      "Test Loss: 0.0104 Acc: 0.5252\n",
      "Epoch: 17/30 Train Loss: 0.0109 Acc: 0.4954\n",
      "Begin test......\n",
      "Test Loss: 0.0104 Acc: 0.5268\n",
      "Epoch: 18/30 Train Loss: 0.0109 Acc: 0.4976\n",
      "Begin test......\n",
      "Test Loss: 0.0102 Acc: 0.5364\n",
      "Epoch: 19/30 Train Loss: 0.0108 Acc: 0.5023\n",
      "Begin test......\n",
      "Test Loss: 0.0103 Acc: 0.5296\n",
      "Epoch: 20/30 Train Loss: 0.0108 Acc: 0.5006\n",
      "Begin test......\n",
      "Test Loss: 0.0105 Acc: 0.5206\n",
      "Epoch: 21/30 Train Loss: 0.0106 Acc: 0.5120\n",
      "Begin test......\n",
      "Test Loss: 0.0099 Acc: 0.5469\n",
      "Epoch: 22/30 Train Loss: 0.0105 Acc: 0.5187\n",
      "Begin test......\n",
      "Test Loss: 0.0100 Acc: 0.5463\n",
      "Epoch: 23/30 Train Loss: 0.0105 Acc: 0.5182\n",
      "Begin test......\n",
      "Test Loss: 0.0099 Acc: 0.5484\n",
      "Epoch: 24/30 Train Loss: 0.0105 Acc: 0.5175\n",
      "Begin test......\n",
      "Test Loss: 0.0099 Acc: 0.5518\n",
      "Epoch: 25/30 Train Loss: 0.0105 Acc: 0.5193\n",
      "Begin test......\n",
      "Test Loss: 0.0098 Acc: 0.5501\n",
      "Epoch: 26/30 Train Loss: 0.0103 Acc: 0.5264\n",
      "Begin test......\n",
      "Test Loss: 0.0098 Acc: 0.5551\n",
      "Epoch: 27/30 Train Loss: 0.0103 Acc: 0.5279\n",
      "Begin test......\n",
      "Test Loss: 0.0097 Acc: 0.5582\n",
      "Epoch: 28/30 Train Loss: 0.0103 Acc: 0.5299\n",
      "Begin test......\n",
      "Test Loss: 0.0097 Acc: 0.5593\n",
      "Epoch: 29/30 Train Loss: 0.0103 Acc: 0.5294\n",
      "Begin test......\n",
      "Test Loss: 0.0097 Acc: 0.5623\n",
      "Epoch: 30/30 Train Loss: 0.0102 Acc: 0.5296\n",
      "Begin test......\n",
      "Test Loss: 0.0096 Acc: 0.5642\n"
     ]
    }
   ],
   "source": [
    "training_loss = []\n",
    "training_acc = []\n",
    "testing_loss = []\n",
    "testing_acc = []\n",
    "\n",
    "for epoch in range(NUM_EPOCHS):\n",
    "    model.train()\n",
    "    torch.cuda.empty_cache()\n",
    "\n",
    "    ##########################\n",
    "    ### Training\n",
    "    ##########################\n",
    "\n",
    "    running_cls_loss = 0.0\n",
    "    running_cls_corrects = 0\n",
    "\n",
    "    for batch_idx, (image, target) in enumerate(train_dataloader):\n",
    "\n",
    "        image = image.to(device)\n",
    "        target = target.to(device)\n",
    "\n",
    "        # train model\n",
    "        outputs, loss = train_batch(model, image, target)\n",
    "        _, preds = torch.max(outputs, 1)\n",
    "\n",
    "        \n",
    "        loss_data = loss.data.item()\n",
    "        if np.isnan(loss_data):\n",
    "            raise ValueError('loss is nan while training')\n",
    "        running_cls_loss += loss.item()\n",
    "        running_cls_corrects += torch.sum(preds == target.data)\n",
    "\n",
    "        loss.backward()\n",
    "        optimizer.step()\n",
    "        optimizer.zero_grad()\n",
    "\n",
    "    epoch_loss = running_cls_loss / len(train_set)\n",
    "    epoch_acc = running_cls_corrects.double() / len(train_set)\n",
    "\n",
    "    print(f'Epoch: {epoch+1}/{NUM_EPOCHS} Train Loss: {epoch_loss:.4f} Acc: {epoch_acc:.4f}')\n",
    "\n",
    "    training_loss.append(epoch_loss)\n",
    "    training_acc.append(epoch_acc.cpu().detach().numpy())\n",
    "\n",
    "    # change learning rate\n",
    "    scheduler.step()\n",
    "\n",
    "\n",
    "    ##########################\n",
    "    ### Testing\n",
    "    ##########################\n",
    "    # # eval model during training or in the last epoch\n",
    "    if (epoch + 1) % EVAL_INTERVAL == 0 or (epoch +1) == NUM_EPOCHS:\n",
    "        print('Begin test......')\n",
    "        model.eval()\n",
    "    \n",
    "        val_loss = 0.0\n",
    "        val_corrects = 0\n",
    "\n",
    "        for batch_idx, (image, target) in enumerate(test_dataloader):\n",
    "\n",
    "            image = image.to(device)\n",
    "            target = target.to(device)\n",
    "\n",
    "            # test model\n",
    "            outputs, loss = test_batch(model, image, target)\n",
    "            _, preds = torch.max(outputs, 1)\n",
    "            \n",
    "            val_loss += loss.item()\n",
    "            val_corrects += torch.sum(preds == target.data)\n",
    "\n",
    "        val_loss = val_loss / len(test_set)\n",
    "        val_acc = val_corrects.double() / len(test_set)\n",
    "        print(f'Test Loss: {val_loss:.4f} Acc: {val_acc:.4f}')\n",
    "        testing_loss.append(val_loss)\n",
    "        testing_acc.append(val_acc.cpu().detach().numpy())\n",
    "\n",
    "        # save the model in last epoch\n",
    "        if (epoch +1) == NUM_EPOCHS:\n",
    "            \n",
    "            state = {\n",
    "            'state_dict': model.state_dict(),\n",
    "            'acc': epoch_acc,\n",
    "            'epoch': (epoch+1),\n",
    "            }\n",
    "\n",
    "            # check the dir\n",
    "            if not os.path.exists(SAVE_DIR):\n",
    "                os.makedirs(SAVE_DIR)\n",
    "\n",
    "            # save the state\n",
    "            torch.save(state, osp.join(SAVE_DIR, 'checkpoint_%s.pth' % (str(epoch+1))))"
   ]
  },
  {
   "cell_type": "markdown",
   "metadata": {},
   "source": [
    "### Task 2: Instance inference\n",
    "---\n",
    "The task is to visualizes an image along with model prediction and class probabilities.\n",
    "\n",
    "**To do**: \n",
    "1. Calculate the prediction and the probabilities for each class.\n",
    "         "
   ]
  },
  {
   "cell_type": "code",
   "execution_count": 38,
   "metadata": {},
   "outputs": [],
   "source": [
    "inputs, classes = next(iter(test_dataloader))\n",
    "input = inputs[0]"
   ]
  },
  {
   "cell_type": "code",
   "execution_count": 48,
   "metadata": {},
   "outputs": [
    {
     "name": "stdout",
     "output_type": "stream",
     "text": [
      "Predicted Label: 6\n",
      "Probabilities for each class: [0.012410427443683147, 0.08284733444452286, 0.11998183280229568, 0.27012139558792114, 0.0077037448063492775, 0.08607732504606247, 0.3750002384185791, 0.008693159557878971, 0.007424067705869675, 0.029740458354353905]\n"
     ]
    }
   ],
   "source": [
    "##################### Write your answer here ##################\n",
    "# input: image, model\n",
    "# outputs: predict_label, probabilities\n",
    "# predict_label is the index (or label) of the class with the highest probability from the probabilities.\n",
    "###############################################################\n",
    "\n",
    "# probabilities = \n",
    "# predict_label = \n",
    "\n",
    "import torch\n",
    "\n",
    "# Assuming 'model' is your trained model and 'input' is your input image tensor\n",
    "\n",
    "# Set the model to evaluation mode\n",
    "model.eval()\n",
    "input = input.to(device)\n",
    "# Forward pass to get the logits (raw scores) for each class\n",
    "with torch.no_grad():\n",
    "    logits = model(input.unsqueeze(0))  # Unsqueezing to add a batch dimension\n",
    "\n",
    "# Calculate probabilities using softmax\n",
    "probabilities = torch.softmax(logits, dim=1)\n",
    "\n",
    "# Get the predicted class label (index with highest probability)\n",
    "predict_label = torch.argmax(probabilities, dim=1)\n",
    "\n",
    "# Convert probabilities to a list\n",
    "probabilities = probabilities.squeeze()#.tolist()\n",
    "\n",
    "# Now, 'predict_label' contains the index of the predicted class,\n",
    "# and 'probabilities' is a list of probabilities for each class.\n",
    "\n",
    "# Print the results\n",
    "print(\"Predicted Label:\", predict_label.item())\n",
    "print(\"Probabilities for each class:\", probabilities.tolist())"
   ]
  },
  {
   "cell_type": "code",
   "execution_count": 49,
   "metadata": {},
   "outputs": [
    {
     "name": "stderr",
     "output_type": "stream",
     "text": [
      "Clipping input data to the valid range for imshow with RGB data ([0..1] for floats or [0..255] for integers).\n"
     ]
    },
    {
     "data": {
      "image/png": "[encoded data removed]",
      "text/plain": [
       "<Figure size 640x480 with 1 Axes>"
      ]
     },
     "metadata": {},
     "output_type": "display_data"
    },
    {
     "name": "stdout",
     "output_type": "stream",
     "text": [
      "Print probabilities for each class:\n",
      "airplane: 0.0124\n",
      "automobile: 0.0828\n",
      "bird: 0.1200\n",
      "cat: 0.2701\n",
      "deer: 0.0077\n",
      "dog: 0.0861\n",
      "frog: 0.3750\n",
      "horse: 0.0087\n",
      "ship: 0.0074\n",
      "truck: 0.0297\n"
     ]
    }
   ],
   "source": [
    "predicted_class = class_names[predict_label.item()]\n",
    "predicted_probability = probabilities[predict_label].item()\n",
    "##\n",
    "input= input.cpu()\n",
    "##\n",
    "image = input.numpy().transpose((1, 2, 0))\n",
    "plt.imshow(image)\n",
    "plt.text(17, 30, f'Predicted Class: {predicted_class}\\nProbability: {predicted_probability:.2f}', \n",
    "            color='white', backgroundcolor='black', fontsize=8)\n",
    "plt.show()\n",
    "\n",
    "# Print probabilities for each class\n",
    "print('Print probabilities for each class:')\n",
    "for i in range(len(class_names)):\n",
    "    print(f'{class_names[i]}: {probabilities[i].item():.4f}')"
   ]
  },
  {
   "cell_type": "code",
   "execution_count": null,
   "metadata": {},
   "outputs": [],
   "source": []
  }
 ],
 "metadata": {
  "kernelspec": {
   "display_name": "Python 3 (ipykernel)",
   "language": "python",
   "name": "python3"
  },
  "language_info": {
   "codemirror_mode": {
    "name": "ipython",
    "version": 3
   },
   "file_extension": ".py",
   "mimetype": "text/x-python",
   "name": "python",
   "nbconvert_exporter": "python",
   "pygments_lexer": "ipython3",
   "version": "3.10.12"
  }
 },
 "nbformat": 4,
 "nbformat_minor": 4
}
